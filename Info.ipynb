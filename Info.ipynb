{
 "cells": [
  {
   "cell_type": "markdown",
   "metadata": {},
   "source": [
    "- fhs_flashsale_product: (Thông tin flashsale của product)\n",
    "    * period_id : id của flashsale\n",
    "    * product_id : id của product \n",
    "    * original_price : giá gốc\n",
    "    * flashsale_price : giá sale\n",
    "    * total_items : số lượng sale\n",
    "    \n",
    "- fhs_flashsale_period: (Chứa thông tin flashsale về thời gian)\n",
    "    * id: id của flashsale (== period_id của fhs_flashsale_product)\n",
    "    * start_date, end_date: time bắt đầu kết thúc sale \n",
    "    * các cột khác không quan tâm\n",
    "    \n",
    "- fhs_catalog_product_entity: (Thông tin discount và ngày bắt đầu bán)\n",
    "    * entity_id: id của product (==product_id trong fhs_flashsale_product)\n",
    "    * sku : là mã sản phẩm (duy nhất và là khóa của sản phẩm dùng để truy các thông tin khác về sản phẩm)\n",
    "    * created_at : ngày bắt đầu bán\n",
    "    * discount_percent : phần trăm giảm giá so với giá bìa (trừ flashsale còn giá sản phẩm mọi lúc sẽ là giá gốc trừ đi disount này)\n",
    "\n",
    "- fhs_cataloginventory_stock_item: Bãng này là số lượng sản phẩm tồn nhưng ko dùng được, do bên db bị mất dữ liệu\n",
    "    \n",
    "- fhs_sales_flat_order: Chứa thông tin đơn hàng\n",
    "    * entity_id : id của đơn hàng (==order_id trong fhs_sales_flat_order_item)\n",
    "    * state : trạng thái đơn hàng\n",
    "    * status : trạng thái của trạng thái đơn hàng (ví dụ đơn hàng ở state đang giao, status là complete nghĩa là ở trang thái đang * giao đã hoàn thành)\n",
    "    * created_at : ngày tạo đơn\n",
    "    * updated_at : ngày cập nhật trạng thái\n",
    "    * store_id : id của kho, id < 4 cho thương mại điện tử  (nhớ thêm điều kiện store_id<4 khi query bảng này)\n",
    "\n",
    "- fhs_sales_flat_order_item: Chưa thông tin từng sản phẩm trong đơn hàng\n",
    "    * order_id: id của đơn hàng (==entity_id trong fhs_sales_flat_order)\n",
    "    * created_at: Ngày tạo đơn con\n",
    "    * product_id, sku : id và mã sản phẩm\n",
    "\n",
    "- fhs_catalog_product_entity_decimal: Bảng giá sản phẩm\n",
    "    * entity_id: id của product (==entity_id trong fhs_catalog_product_entity)\n",
    "    * attribute_id : loại giá (giá gốc 75, giá bán 76 (hoặc ngược lại chị không nhớ, chỉ quan tâm 2 loại này))\n",
    "    * value : giá bán của sản phẩm với attribute tương ứng\n",
    "    \n",
    "- fhs_product_stock_log: Bảng này là thông tin các sản phẩm đang bán hiện tại trên thị trường\n",
    "    * product_id, sku : id và mã của sp\n",
    "    * qty: số lượng trong kho\n",
    "    * is_in_stock: 1 là còn bán\n",
    "    * created_at: không rõ\n",
    "    * bảng này cũng không đáng tin lắm \n",
    "    \n",
    "- product_dim : Thông tin sp\n",
    "    * sku: mã\n",
    "    * name: tên\n",
    "    * cat1 tới cat5: là categories của sp\n",
    "    * price : giá gốc"
   ]
  },
  {
   "cell_type": "markdown",
   "metadata": {},
   "source": [
    "1) Vấn đề sức bán\n",
    "- Xác định các yếu tố ảnh hưởng tới sức bán, ảnh hưởng như thế nào, visualize minh họa\n",
    "- Có thể đề xuất các dạng thông tin ảnh hưởng khác nằm ngoài DB để yêu cầu thu thập thêm\n",
    "2) Hành vi khách hàng\n",
    "- Khách hàng mua sắm ở FHS từ khi bắt đầu tới khi từ bỏ có những hành vi như thế nào?\n",
    "- Làm sao để nắm được biểu hiện của 1 khách hàng sắp từ bỏ mua sắm tại FHS?"
   ]
  }
 ],
 "metadata": {
  "kernelspec": {
   "display_name": "Python 3.10.4 64-bit",
   "language": "python",
   "name": "python3"
  },
  "language_info": {
   "name": "python",
   "version": "3.10.4"
  },
  "orig_nbformat": 4,
  "vscode": {
   "interpreter": {
    "hash": "916dbcbb3f70747c44a77c7bcd40155683ae19c65e1c03b4aa3499c5328201f1"
   }
  }
 },
 "nbformat": 4,
 "nbformat_minor": 2
}
