{
 "cells": [
  {
   "cell_type": "markdown",
   "metadata": {},
   "source": [
    "- fhs_flashsale_product: (Thông tin flashsale của product)\n",
    "    * period_id : id của flashsale\n",
    "    * product_id : id của product \n",
    "    * original_price : giá gốc\n",
    "    * flashsale_price : giá sale\n",
    "    * total_items : số lượng sale\n",
    "    \n",
    "- fhs_flashsale_period: (Chứa thông tin flashsale về thời gian)\n",
    "    * id: id của flashsale (== period_id của fhs_flashsale_product)\n",
    "    * start_date, end_date: time bắt đầu kết thúc sale \n",
    "    * các cột khác không quan tâm\n",
    "    \n",
    "- fhs_catalog_product_entity: (Thông tin discount và ngày bắt đầu bán)\n",
    "    * entity_id: id của product (==product_id trong fhs_flashsale_product)\n",
    "    * sku : là mã sản phẩm (duy nhất và là khóa của sản phẩm dùng để truy các thông tin khác về sản phẩm)\n",
    "    * created_at : ngày bắt đầu bán\n",
    "    * discount_percent : phần trăm giảm giá so với giá bìa (trừ flashsale còn giá sản phẩm mọi lúc sẽ là giá gốc trừ đi disount này)\n",
    "\n",
    "- fhs_cataloginventory_stock_item: Bãng này là số lượng sản phẩm tồn nhưng ko dùng được, do bên db bị mất dữ liệu\n",
    "    \n",
    "- fhs_sales_flat_order: Chứa thông tin đơn hàng\n",
    "    * entity_id : id của đơn hàng (==order_id trong fhs_sales_flat_order_item)\n",
    "    * state : trạng thái đơn hàng\n",
    "    * status : trạng thái của trạng thái đơn hàng (ví dụ đơn hàng ở state đang giao, status là complete nghĩa là ở trang thái đang * giao đã hoàn thành)\n",
    "    * created_at : ngày tạo đơn\n",
    "    * updated_at : ngày cập nhật trạng thái\n",
    "    * store_id : id của kho, id < 4 cho thương mại điện tử  (nhớ thêm điều kiện store_id<4 khi query bảng này)\n",
    "\n",
    "- fhs_sales_flat_order_item: Chưa thông tin từng sản phẩm trong đơn hàng\n",
    "    * order_id: id của đơn hàng (==entity_id trong fhs_sales_flat_order)\n",
    "    * created_at: Ngày tạo đơn con\n",
    "    * product_id, sku : id và mã sản phẩm\n",
    "\n",
    "- fhs_catalog_product_entity_decimal: Bảng giá sản phẩm\n",
    "    * entity_id: id của product (==entity_id trong fhs_catalog_product_entity)\n",
    "    * attribute_id : loại giá (giá gốc 75, giá bán 76 (hoặc ngược lại chị không nhớ, chỉ quan tâm 2 loại này))\n",
    "    * value : giá bán của sản phẩm với attribute tương ứng\n",
    "    \n",
    "- fhs_product_stock_log: Bảng này là thông tin các sản phẩm đang bán hiện tại trên thị trường\n",
    "    * product_id, sku : id và mã của sp\n",
    "    * qty: số lượng trong kho\n",
    "    * is_in_stock: 1 là còn bán\n",
    "    * created_at: không rõ\n",
    "    * bảng này cũng không đáng tin lắm \n",
    "    \n",
    "- product_dim : Thông tin sp\n",
    "    * sku: mã\n",
    "    * name: tên\n",
    "    * cat1 tới cat5: là categories của sp\n",
    "    * price : giá gốc"
   ]
  },
  {
   "cell_type": "code",
   "execution_count": 2,
   "metadata": {},
   "outputs": [],
   "source": [
    "import pandas as pd\n",
    "import numpy as np\n",
    "import matplotlib.pyplot as plt\n",
    "import seaborn as sns"
   ]
  },
  {
   "cell_type": "markdown",
   "metadata": {},
   "source": [
    "- Đọc các file csv vào các biến tương ứng"
   ]
  },
  {
   "cell_type": "code",
   "execution_count": 3,
   "metadata": {},
   "outputs": [],
   "source": [
    "fhs_flashsale_product = pd.read_csv('../Data/Data_Fahasa/fhs_flashsale_product.csv')\n",
    "fhs_flashsale_period = pd.read_csv('../Data/Data_Fahasa/fhs_flashsale_period.csv')\n",
    "fhs_catalog_product_entity = pd.read_csv('../Data/Data_Fahasa/fhs_catalog_product_entity.csv')\n",
    "fhs_sales_flat_order = pd.read_csv('../Data/Data_Fahasa/fhs_sales_flat_order.csv')\n",
    "fhs_sales_flat_order_item = pd.read_csv('../Data/Data_Fahasa/fhs_sales_flat_order_item.csv')\n",
    "fhs_catalog_product_entity_decimal = pd.read_csv('../Data/Data_Fahasa/fhs_catalog_product_entity_decimal.csv')\n",
    "fhs_product_stock_log = pd.read_csv('../Data/Data_Fahasa/fhs_product_stock_log.csv')\n",
    "product_dim = pd.read_csv('../Data/Data_Fahasa/product_dim.csv')"
   ]
  },
  {
   "cell_type": "markdown",
   "metadata": {},
   "source": [
    "- Đổi tên các cột theo tên của từng file cho dễ nhận dạng"
   ]
  },
  {
   "cell_type": "code",
   "execution_count": 4,
   "metadata": {},
   "outputs": [],
   "source": [
    "def rename_columns(dataframe, dataframe_name):\n",
    "    \"\"\"\n",
    "    rename columns with patern: dataframe_name.columns_name\n",
    "    Input:\n",
    "        dataframe: Dataframe Pandas\n",
    "        dataframe_name: string\n",
    "    \"\"\"\n",
    "    columns = dataframe.columns\n",
    "    # rename columns\n",
    "    new_names = []\n",
    "    for index in range(len(columns)):\n",
    "        new_name = f'{dataframe_name}.{columns[index]}'\n",
    "        new_names.append(new_name)\n",
    "    \n",
    "    dataframe.columns = new_names\n",
    "\n",
    "rename_columns(fhs_flashsale_product, 'fhs_flashsale_product')\n",
    "rename_columns(fhs_flashsale_period, 'fhs_flashsale_period')\n",
    "rename_columns(fhs_catalog_product_entity, 'fhs_catalog_product_entity')\n",
    "rename_columns(fhs_sales_flat_order, 'fhs_sales_flat_order')\n",
    "rename_columns(fhs_sales_flat_order_item, 'fhs_sales_flat_order_item')\n",
    "rename_columns(fhs_catalog_product_entity_decimal, 'fhs_catalog_product_entity_decimal')\n",
    "rename_columns(fhs_product_stock_log, 'fhs_product_stock_log')\n",
    "rename_columns(product_dim, 'product_dim')"
   ]
  },
  {
   "cell_type": "markdown",
   "metadata": {},
   "source": [
    "- Xóa các cột không cần thiết của fhs_flashsale_period"
   ]
  },
  {
   "cell_type": "code",
   "execution_count": 5,
   "metadata": {},
   "outputs": [],
   "source": [
    "temp = fhs_flashsale_period.loc[:,\n",
    "    ['fhs_flashsale_period.id', 'fhs_flashsale_period.start_date', 'fhs_flashsale_period.end_date']]\n",
    "# xóa đi để tiết kiệm bộ nhớ\n",
    "del fhs_flashsale_period\n",
    "fhs_flashsale_period = temp"
   ]
  },
  {
   "cell_type": "markdown",
   "metadata": {},
   "source": [
    "- Chuyển các chuỗi thời gian về định dạng datetime"
   ]
  },
  {
   "cell_type": "code",
   "execution_count": 6,
   "metadata": {},
   "outputs": [],
   "source": [
    "def string_to_datetime(dataframe, column_name):\n",
    "          dataframe[f'{column_name}'] \\\n",
    "          = pd.to_datetime(dataframe[f'{column_name}'],\n",
    "                              format = '%Y/%m/%d %H:%M:%S')\n",
    "\n",
    "string_to_datetime(fhs_flashsale_period, 'fhs_flashsale_period.start_date')\n",
    "string_to_datetime(fhs_flashsale_period, 'fhs_flashsale_period.end_date')\n",
    "string_to_datetime(fhs_catalog_product_entity, 'fhs_catalog_product_entity.created_at')\n",
    "string_to_datetime(fhs_sales_flat_order, 'fhs_sales_flat_order.created_at')\n",
    "string_to_datetime(fhs_sales_flat_order, 'fhs_sales_flat_order.updated_at')\n",
    "string_to_datetime(fhs_sales_flat_order_item, 'fhs_sales_flat_order_item.created_at')\n",
    "string_to_datetime(fhs_product_stock_log, 'fhs_product_stock_log.created_at')"
   ]
  },
  {
   "cell_type": "code",
   "execution_count": 7,
   "metadata": {},
   "outputs": [
    {
     "name": "stdout",
     "output_type": "stream",
     "text": [
      "fhs_flashsale_product 3930772\n",
      "fhs_flashsale_period 6416\n",
      "fhs_product_stock_log 10251317\n",
      "fhs_catalog_product_entity 352880\n",
      "fhs_catalog_product_entity_decimal 1213003\n",
      "fhs_sales_flat_order 3541823\n",
      "fhs_sales_flat_order_item 17828291\n",
      "product_dim 2961504\n"
     ]
    }
   ],
   "source": [
    "print('fhs_flashsale_product', len(fhs_flashsale_product))\n",
    "print('fhs_flashsale_period', len(fhs_flashsale_period))\n",
    "print('fhs_product_stock_log',len(fhs_product_stock_log))\n",
    "print('fhs_catalog_product_entity',len(fhs_catalog_product_entity))\n",
    "print('fhs_catalog_product_entity_decimal',len(fhs_catalog_product_entity_decimal))\n",
    "print('fhs_sales_flat_order',len(fhs_sales_flat_order))\n",
    "print('fhs_sales_flat_order_item',len(fhs_sales_flat_order_item))\n",
    "print('product_dim',len(product_dim))"
   ]
  },
  {
   "cell_type": "markdown",
   "metadata": {},
   "source": [
    "- Merge thông tin của các sản phẩm flashsale lại với nhau để lấy các thông tin cần thiết như: ()\n",
    "  * Mã sku\n",
    "  * Thời gian flashsale của từng sản phẩm\n",
    "  * ......"
   ]
  },
  {
   "cell_type": "code",
   "execution_count": 8,
   "metadata": {},
   "outputs": [
    {
     "name": "stdout",
     "output_type": "stream",
     "text": [
      "<class 'pandas.core.frame.DataFrame'>\n",
      "Int64Index: 3930772 entries, 0 to 3930771\n",
      "Data columns (total 12 columns):\n",
      " #   Column                                       Dtype         \n",
      "---  ------                                       -----         \n",
      " 0   fhs_flashsale_product.period_id              int64         \n",
      " 1   fhs_flashsale_product.product_id             int64         \n",
      " 2   fhs_flashsale_product.original_price         float64       \n",
      " 3   fhs_flashsale_product.flashsale_price        float64       \n",
      " 4   fhs_flashsale_product.total_items            float64       \n",
      " 5   fhs_flashsale_period.id                      int64         \n",
      " 6   fhs_flashsale_period.start_date              datetime64[ns]\n",
      " 7   fhs_flashsale_period.end_date                datetime64[ns]\n",
      " 8   fhs_catalog_product_entity.entity_id         int64         \n",
      " 9   fhs_catalog_product_entity.sku               object        \n",
      " 10  fhs_catalog_product_entity.created_at        datetime64[ns]\n",
      " 11  fhs_catalog_product_entity.discount_percent  float64       \n",
      "dtypes: datetime64[ns](3), float64(4), int64(4), object(1)\n",
      "memory usage: 389.9+ MB\n"
     ]
    }
   ],
   "source": [
    "temp = pd.merge(fhs_flashsale_product, fhs_flashsale_period, \n",
    "          left_on='fhs_flashsale_product.period_id', right_on='fhs_flashsale_period.id')\n",
    "fhs_flashsale_product_info = pd.merge(temp, fhs_catalog_product_entity, \n",
    "          left_on='fhs_flashsale_product.product_id', right_on='fhs_catalog_product_entity.entity_id')\n",
    "del temp\n",
    "fhs_flashsale_product_info.info()"
   ]
  },
  {
   "cell_type": "markdown",
   "metadata": {},
   "source": [
    "- Tương tự với đơn hàng, ta sẽ merge giữa đơn hàng chính và đơn hàng con để tập trung vào các thuộc tính:\n",
    "  * Trạng thái đơn hàng chính\n",
    "  * Ngày tạo đơn hàng con"
   ]
  },
  {
   "cell_type": "code",
   "execution_count": 9,
   "metadata": {},
   "outputs": [
    {
     "name": "stdout",
     "output_type": "stream",
     "text": [
      "<class 'pandas.core.frame.DataFrame'>\n",
      "Int64Index: 13969403 entries, 0 to 13969402\n",
      "Data columns (total 12 columns):\n",
      " #   Column                                Dtype         \n",
      "---  ------                                -----         \n",
      " 0   fhs_sales_flat_order.entity_id        int64         \n",
      " 1   fhs_sales_flat_order.increment_id     float64       \n",
      " 2   fhs_sales_flat_order.state            object        \n",
      " 3   fhs_sales_flat_order.status           object        \n",
      " 4   fhs_sales_flat_order.created_at       datetime64[ns]\n",
      " 5   fhs_sales_flat_order.updated_at       datetime64[ns]\n",
      " 6   fhs_sales_flat_order.store_id         int64         \n",
      " 7   fhs_sales_flat_order_item.item_id     int64         \n",
      " 8   fhs_sales_flat_order_item.order_id    int64         \n",
      " 9   fhs_sales_flat_order_item.created_at  datetime64[ns]\n",
      " 10  fhs_sales_flat_order_item.product_id  float64       \n",
      " 11  fhs_sales_flat_order_item.sku         object        \n",
      "dtypes: datetime64[ns](3), float64(2), int64(4), object(3)\n",
      "memory usage: 1.4+ GB\n"
     ]
    }
   ],
   "source": [
    "fhs_sales_flat_order_item_state  \\\n",
    "        = pd.merge(fhs_sales_flat_order, fhs_sales_flat_order_item,\n",
    "                        left_on = 'fhs_sales_flat_order.entity_id', \n",
    "                        right_on = 'fhs_sales_flat_order_item.order_id')\n",
    "\n",
    "fhs_sales_flat_order_item_state.info()"
   ]
  },
  {
   "cell_type": "markdown",
   "metadata": {},
   "source": [
    "- Vì số lượng dòng quá lớn nên ta sẽ thực hiện chiến lược tách các sản phẩm theo từng nhóm:\n",
    "  * Theo năm: và mỗi năm chỉ lấy ra những sản phẩm bán chạy nhất hoặc lấy những sản phẩm trung bình\n",
    "  * Có thể nghĩ đến chiến thuật lấy ngẫu nhiên sau đó dùng thống kê mô tả để dự đoán ảnh hưởng của flashsale đến lưu lượng bán hàng"
   ]
  },
  {
   "cell_type": "code",
   "execution_count": 10,
   "metadata": {},
   "outputs": [],
   "source": [
    "# Giả sử xét trong năm 2022\n",
    "import datetime \n",
    "min_year = pd.to_datetime('2022/1/1',\n",
    "                              format = '%Y/%m/%d %H:%M:%S')\n",
    "max_year = pd.to_datetime('2022/12/31 23:59:59',\n",
    "                              format = '%Y/%m/%d %H:%M:%S')\n",
    "\n",
    "condition2 = np.where((fhs_sales_flat_order_item_state['fhs_sales_flat_order_item.created_at'] >=  min_year)\n",
    "          &           (fhs_sales_flat_order_item_state['fhs_sales_flat_order_item.created_at'] <=  max_year))     \n",
    "fhs_sales_flat_order_item_state_2022 = fhs_sales_flat_order_item_state.loc[condition2] \n",
    "\n",
    "# Tương ứng với những sản phẩm được tung ra trong khoảng thời gian này 2022\n",
    "condition3 = np.where((fhs_flashsale_product_info['fhs_flashsale_period.start_date'] >=  min_year)\n",
    "          &           (fhs_flashsale_product_info['fhs_flashsale_period.start_date'] <=  max_year))\n",
    "fhs_flashsale_product_info_2022 = fhs_flashsale_product_info.loc[condition3] "
   ]
  },
  {
   "cell_type": "code",
   "execution_count": 11,
   "metadata": {},
   "outputs": [],
   "source": [
    "# fhs_sales_flat_order_item_state_2022 = pd.read_csv('Data/fhs_sales_flat_order_item_state_2022.csv')\n",
    "# fhs_flashsale_product_info_2022 = pd.read_csv('Data/fhs_flashsale_product_info_2022.csv')"
   ]
  },
  {
   "cell_type": "code",
   "execution_count": 12,
   "metadata": {},
   "outputs": [
    {
     "name": "stdout",
     "output_type": "stream",
     "text": [
      "997797\n",
      "797530\n"
     ]
    }
   ],
   "source": [
    "print(len(fhs_sales_flat_order_item_state_2022))\n",
    "print(len(fhs_flashsale_product_info_2022))"
   ]
  },
  {
   "cell_type": "markdown",
   "metadata": {},
   "source": [
    "- Tạo thêm 4 cột giá trị, để có sau này truy vấn đơn giản hơn cho fhs_sales_flat_order_item_state:\n",
    "  * flashsale_product: Có phải là đơn hàng flashsale hay không\n",
    "  * flashsale_day: True là trong ngày có flashsale, False ngược lại\n",
    "  * flashsale_time: True là trong khung giờ có flashsale, False ngược lại\n",
    "  * flashsale_time_product: True thời gian này sản phẩm đó được flashsale, False ngược lại\n"
   ]
  },
  {
   "cell_type": "markdown",
   "metadata": {},
   "source": [
    "- Đầu tiên là xác định có phải đơn hàng flashsale hay không"
   ]
  },
  {
   "cell_type": "code",
   "execution_count": 13,
   "metadata": {},
   "outputs": [],
   "source": [
    "fhs_sales_flat_order_item_state_2022['flashsale_product'] = fhs_sales_flat_order_item_state_2022['fhs_sales_flat_order_item.sku']\\\n",
    "          .isin(fhs_flashsale_product_info_2022['fhs_catalog_product_entity.sku'])\n"
   ]
  },
  {
   "cell_type": "markdown",
   "metadata": {},
   "source": [
    "- Tiếp theo là xem có ở trong ngày flashsale hay không"
   ]
  },
  {
   "cell_type": "code",
   "execution_count": 14,
   "metadata": {},
   "outputs": [
    {
     "data": {
      "text/plain": [
       "997797"
      ]
     },
     "execution_count": 14,
     "metadata": {},
     "output_type": "execute_result"
    }
   ],
   "source": [
    "len(fhs_sales_flat_order_item_state_2022)"
   ]
  },
  {
   "cell_type": "code",
   "execution_count": 15,
   "metadata": {},
   "outputs": [],
   "source": [
    "# fhs_flashsale_product_info_2022.drop(['Unnamed: 0'], axis = 1, inplace=True)"
   ]
  },
  {
   "cell_type": "markdown",
   "metadata": {},
   "source": [
    "- Xem xét sản phẩm đó có bán trong ngày flashsale hay không"
   ]
  },
  {
   "cell_type": "code",
   "execution_count": 16,
   "metadata": {},
   "outputs": [],
   "source": [
    "dayofyear_flashsale = set(fhs_flashsale_product_info_2022\\\n",
    "          .groupby(fhs_flashsale_product_info_2022['fhs_flashsale_period.start_date'].dt.dayofyear).keys)"
   ]
  },
  {
   "cell_type": "code",
   "execution_count": 17,
   "metadata": {},
   "outputs": [],
   "source": [
    "fhs_sales_flat_order_item_state_2022['flashsale_day'] = \\\n",
    "          np.where(fhs_sales_flat_order_item_state_2022['fhs_sales_flat_order_item.created_at'].dt.dayofyear.isin(dayofyear_flashsale)\n",
    "                    , True, False)"
   ]
  },
  {
   "cell_type": "markdown",
   "metadata": {},
   "source": [
    "- Xem xét sản phẩm có bán trong khung giờ có flash sale hay không"
   ]
  },
  {
   "cell_type": "code",
   "execution_count": 18,
   "metadata": {},
   "outputs": [],
   "source": [
    "# Đầu tiên cho những thuộc tính flashsale_time bằng false hết sau đó ta sẽ gán True vào những dòng cần thiết\n",
    "fhs_sales_flat_order_item_state_2022['flashsale_time'] = False"
   ]
  },
  {
   "cell_type": "code",
   "execution_count": 19,
   "metadata": {},
   "outputs": [],
   "source": [
    "# Lấy các ngày sale có trong flash sale\n",
    "start_end = fhs_flashsale_product_info_2022.groupby(\n",
    "                    [fhs_flashsale_product_info_2022['fhs_flashsale_period.start_date'],\n",
    "                    fhs_flashsale_product_info_2022['fhs_flashsale_period.end_date']])['fhs_flashsale_product.period_id'].count()\n",
    "                    "
   ]
  },
  {
   "cell_type": "code",
   "execution_count": 20,
   "metadata": {},
   "outputs": [],
   "source": [
    "# tạo ra dataframe để merge lại r so sánh\n",
    "start_end_df = pd.DataFrame(\n",
    "          {'start': start_end.index.get_level_values(0),\n",
    "           'end': start_end.index.get_level_values(1)})\n",
    "\n",
    "# merge các cột có cùng ngày với nhau\n",
    "temp = \\\n",
    "          pd.merge(fhs_sales_flat_order_item_state_2022, start_end_df,\n",
    "                    left_on = fhs_sales_flat_order_item_state_2022['fhs_sales_flat_order_item.created_at'].dt.dayofyear\n",
    "                    ,right_on = start_end_df['start'].dt.dayofyear)\n",
    "\n",
    "# lọc đi các dòng không thuộc thời gian flashsale\n",
    "temp = temp.loc[(temp['fhs_sales_flat_order_item.created_at'] \\\n",
    "                    > temp['start'])\n",
    "&         (temp['fhs_sales_flat_order_item.created_at'] \\\n",
    "                    < temp['end'])]\n",
    "          \n",
    "# drop đi duplicate ở mỗi đơn hàng\n",
    "temp.drop_duplicates(subset = fhs_sales_flat_order_item_state_2022.columns, inplace = True)\n",
    "\n",
    "# Cắt cột\n",
    "fhs_sales_flat_order_item_flashsale_time_2022 =\\\n",
    "           temp.loc[:, fhs_sales_flat_order_item_state_2022.columns]\n",
    "\n",
    "#  Xử lí để gán vào cho flashsale_time\n",
    "keys = list(fhs_sales_flat_order_item_state_2022.columns)\n",
    "i1 = fhs_sales_flat_order_item_state_2022.set_index(keys).index\n",
    "i2 = fhs_sales_flat_order_item_flashsale_time_2022.set_index(keys).index\n",
    "\n",
    "\n",
    "fhs_sales_flat_order_item_state_2022['flashsale_time'] = \\\n",
    "          np.where(i1.isin(i2),\n",
    "          True, False)\n"
   ]
  },
  {
   "cell_type": "markdown",
   "metadata": {},
   "source": [
    "- Xet thử sản phẩm trong giờ đó có flashsale hay không"
   ]
  },
  {
   "cell_type": "code",
   "execution_count": 21,
   "metadata": {},
   "outputs": [],
   "source": [
    "# Đầu tiên cho những thuộc tính flashsale_time_product bằng false hết sau đó ta sẽ gán True vào những dòng cần thiết\n",
    "fhs_sales_flat_order_item_state_2022['flashsale_time_product'] = False"
   ]
  },
  {
   "cell_type": "code",
   "execution_count": 22,
   "metadata": {},
   "outputs": [],
   "source": [
    "temp = \\\n",
    "          pd.merge(fhs_sales_flat_order_item_state_2022, fhs_flashsale_product_info_2022,\n",
    "                    left_on = 'fhs_sales_flat_order_item.sku'\n",
    "                    ,right_on = 'fhs_catalog_product_entity.sku')\n",
    "\n",
    "# Lấy các dòng sao cho lọt vào thời điểm flashsale\n",
    "temp = temp.loc[\n",
    "          (temp['fhs_sales_flat_order_item.created_at'] \\\n",
    "                    > temp['fhs_flashsale_period.start_date'])\n",
    "&         (temp['fhs_sales_flat_order_item.created_at'] \\\n",
    "                    < temp['fhs_flashsale_period.end_date'])]\n",
    "\n",
    "# drop đi duplicate ở mỗi đơn hàng\n",
    "temp.drop_duplicates(subset = fhs_sales_flat_order_item_state_2022.columns, inplace = True)\n",
    "\n",
    "# Cắt cột\n",
    "fhs_sales_flat_order_item_flashsale_time_product_2022 =\\\n",
    "           temp.loc[:, fhs_sales_flat_order_item_state_2022.columns]\n",
    "\n",
    "#  Xử lí để gán vào cho flashsale_time\n",
    "keys = list(fhs_sales_flat_order_item_state_2022.columns)\n",
    "i1 = fhs_sales_flat_order_item_state_2022.set_index(keys).index\n",
    "i2 = fhs_sales_flat_order_item_flashsale_time_product_2022.set_index(keys).index\n",
    "\n",
    "\n",
    "fhs_sales_flat_order_item_state_2022['flashsale_time_product'] = \\\n",
    "          np.where(i1.isin(i2),\n",
    "          True, False)\n"
   ]
  },
  {
   "cell_type": "code",
   "execution_count": 23,
   "metadata": {},
   "outputs": [],
   "source": [
    "a = fhs_sales_flat_order_item_state_2022.loc[\n",
    "          (fhs_sales_flat_order_item_state_2022['fhs_sales_flat_order.state'] == 'complete')\n",
    "&         (fhs_sales_flat_order_item_state_2022['fhs_sales_flat_order.status'] == 'complete')]"
   ]
  },
  {
   "cell_type": "code",
   "execution_count": 24,
   "metadata": {},
   "outputs": [
    {
     "data": {
      "text/html": [
       "<div>\n",
       "<style scoped>\n",
       "    .dataframe tbody tr th:only-of-type {\n",
       "        vertical-align: middle;\n",
       "    }\n",
       "\n",
       "    .dataframe tbody tr th {\n",
       "        vertical-align: top;\n",
       "    }\n",
       "\n",
       "    .dataframe thead th {\n",
       "        text-align: right;\n",
       "    }\n",
       "</style>\n",
       "<table border=\"1\" class=\"dataframe\">\n",
       "  <thead>\n",
       "    <tr style=\"text-align: right;\">\n",
       "      <th></th>\n",
       "      <th></th>\n",
       "      <th></th>\n",
       "      <th></th>\n",
       "      <th>fhs_sales_flat_order.entity_id</th>\n",
       "      <th>fhs_sales_flat_order.increment_id</th>\n",
       "      <th>fhs_sales_flat_order.state</th>\n",
       "      <th>fhs_sales_flat_order.status</th>\n",
       "      <th>fhs_sales_flat_order.created_at</th>\n",
       "      <th>fhs_sales_flat_order.updated_at</th>\n",
       "      <th>fhs_sales_flat_order.store_id</th>\n",
       "      <th>fhs_sales_flat_order_item.item_id</th>\n",
       "      <th>fhs_sales_flat_order_item.order_id</th>\n",
       "      <th>fhs_sales_flat_order_item.created_at</th>\n",
       "      <th>fhs_sales_flat_order_item.product_id</th>\n",
       "      <th>fhs_sales_flat_order_item.sku</th>\n",
       "    </tr>\n",
       "    <tr>\n",
       "      <th>flashsale_product</th>\n",
       "      <th>flashsale_day</th>\n",
       "      <th>flashsale_time</th>\n",
       "      <th>flashsale_time_product</th>\n",
       "      <th></th>\n",
       "      <th></th>\n",
       "      <th></th>\n",
       "      <th></th>\n",
       "      <th></th>\n",
       "      <th></th>\n",
       "      <th></th>\n",
       "      <th></th>\n",
       "      <th></th>\n",
       "      <th></th>\n",
       "      <th></th>\n",
       "      <th></th>\n",
       "    </tr>\n",
       "  </thead>\n",
       "  <tbody>\n",
       "    <tr>\n",
       "      <th rowspan=\"3\" valign=\"top\">False</th>\n",
       "      <th>False</th>\n",
       "      <th>False</th>\n",
       "      <th>False</th>\n",
       "      <td>60536</td>\n",
       "      <td>60536</td>\n",
       "      <td>60536</td>\n",
       "      <td>60536</td>\n",
       "      <td>60536</td>\n",
       "      <td>60536</td>\n",
       "      <td>60536</td>\n",
       "      <td>60536</td>\n",
       "      <td>60536</td>\n",
       "      <td>60536</td>\n",
       "      <td>60536</td>\n",
       "      <td>60536</td>\n",
       "    </tr>\n",
       "    <tr>\n",
       "      <th rowspan=\"2\" valign=\"top\">True</th>\n",
       "      <th>False</th>\n",
       "      <th>False</th>\n",
       "      <td>59056</td>\n",
       "      <td>59056</td>\n",
       "      <td>59056</td>\n",
       "      <td>59056</td>\n",
       "      <td>59056</td>\n",
       "      <td>59056</td>\n",
       "      <td>59056</td>\n",
       "      <td>59056</td>\n",
       "      <td>59056</td>\n",
       "      <td>59056</td>\n",
       "      <td>59056</td>\n",
       "      <td>59056</td>\n",
       "    </tr>\n",
       "    <tr>\n",
       "      <th>True</th>\n",
       "      <th>False</th>\n",
       "      <td>224315</td>\n",
       "      <td>224315</td>\n",
       "      <td>224315</td>\n",
       "      <td>224315</td>\n",
       "      <td>224315</td>\n",
       "      <td>224315</td>\n",
       "      <td>224315</td>\n",
       "      <td>224315</td>\n",
       "      <td>224315</td>\n",
       "      <td>224315</td>\n",
       "      <td>224315</td>\n",
       "      <td>224315</td>\n",
       "    </tr>\n",
       "    <tr>\n",
       "      <th rowspan=\"4\" valign=\"top\">True</th>\n",
       "      <th>False</th>\n",
       "      <th>False</th>\n",
       "      <th>False</th>\n",
       "      <td>45902</td>\n",
       "      <td>45902</td>\n",
       "      <td>45902</td>\n",
       "      <td>45902</td>\n",
       "      <td>45902</td>\n",
       "      <td>45902</td>\n",
       "      <td>45902</td>\n",
       "      <td>45902</td>\n",
       "      <td>45902</td>\n",
       "      <td>45902</td>\n",
       "      <td>45902</td>\n",
       "      <td>45902</td>\n",
       "    </tr>\n",
       "    <tr>\n",
       "      <th rowspan=\"3\" valign=\"top\">True</th>\n",
       "      <th>False</th>\n",
       "      <th>False</th>\n",
       "      <td>57176</td>\n",
       "      <td>57176</td>\n",
       "      <td>57176</td>\n",
       "      <td>57176</td>\n",
       "      <td>57176</td>\n",
       "      <td>57176</td>\n",
       "      <td>57176</td>\n",
       "      <td>57176</td>\n",
       "      <td>57176</td>\n",
       "      <td>57176</td>\n",
       "      <td>57176</td>\n",
       "      <td>57176</td>\n",
       "    </tr>\n",
       "    <tr>\n",
       "      <th rowspan=\"2\" valign=\"top\">True</th>\n",
       "      <th>False</th>\n",
       "      <td>234309</td>\n",
       "      <td>234309</td>\n",
       "      <td>234309</td>\n",
       "      <td>234309</td>\n",
       "      <td>234309</td>\n",
       "      <td>234309</td>\n",
       "      <td>234309</td>\n",
       "      <td>234309</td>\n",
       "      <td>234309</td>\n",
       "      <td>234309</td>\n",
       "      <td>234309</td>\n",
       "      <td>234309</td>\n",
       "    </tr>\n",
       "    <tr>\n",
       "      <th>True</th>\n",
       "      <td>39106</td>\n",
       "      <td>39106</td>\n",
       "      <td>39106</td>\n",
       "      <td>39106</td>\n",
       "      <td>39106</td>\n",
       "      <td>39106</td>\n",
       "      <td>39106</td>\n",
       "      <td>39106</td>\n",
       "      <td>39106</td>\n",
       "      <td>39106</td>\n",
       "      <td>39106</td>\n",
       "      <td>39106</td>\n",
       "    </tr>\n",
       "  </tbody>\n",
       "</table>\n",
       "</div>"
      ],
      "text/plain": [
       "                                                                       fhs_sales_flat_order.entity_id  \\\n",
       "flashsale_product flashsale_day flashsale_time flashsale_time_product                                   \n",
       "False             False         False          False                                            60536   \n",
       "                  True          False          False                                            59056   \n",
       "                                True           False                                           224315   \n",
       "True              False         False          False                                            45902   \n",
       "                  True          False          False                                            57176   \n",
       "                                True           False                                           234309   \n",
       "                                               True                                             39106   \n",
       "\n",
       "                                                                       fhs_sales_flat_order.increment_id  \\\n",
       "flashsale_product flashsale_day flashsale_time flashsale_time_product                                      \n",
       "False             False         False          False                                               60536   \n",
       "                  True          False          False                                               59056   \n",
       "                                True           False                                              224315   \n",
       "True              False         False          False                                               45902   \n",
       "                  True          False          False                                               57176   \n",
       "                                True           False                                              234309   \n",
       "                                               True                                                39106   \n",
       "\n",
       "                                                                       fhs_sales_flat_order.state  \\\n",
       "flashsale_product flashsale_day flashsale_time flashsale_time_product                               \n",
       "False             False         False          False                                        60536   \n",
       "                  True          False          False                                        59056   \n",
       "                                True           False                                       224315   \n",
       "True              False         False          False                                        45902   \n",
       "                  True          False          False                                        57176   \n",
       "                                True           False                                       234309   \n",
       "                                               True                                         39106   \n",
       "\n",
       "                                                                       fhs_sales_flat_order.status  \\\n",
       "flashsale_product flashsale_day flashsale_time flashsale_time_product                                \n",
       "False             False         False          False                                         60536   \n",
       "                  True          False          False                                         59056   \n",
       "                                True           False                                        224315   \n",
       "True              False         False          False                                         45902   \n",
       "                  True          False          False                                         57176   \n",
       "                                True           False                                        234309   \n",
       "                                               True                                          39106   \n",
       "\n",
       "                                                                       fhs_sales_flat_order.created_at  \\\n",
       "flashsale_product flashsale_day flashsale_time flashsale_time_product                                    \n",
       "False             False         False          False                                             60536   \n",
       "                  True          False          False                                             59056   \n",
       "                                True           False                                            224315   \n",
       "True              False         False          False                                             45902   \n",
       "                  True          False          False                                             57176   \n",
       "                                True           False                                            234309   \n",
       "                                               True                                              39106   \n",
       "\n",
       "                                                                       fhs_sales_flat_order.updated_at  \\\n",
       "flashsale_product flashsale_day flashsale_time flashsale_time_product                                    \n",
       "False             False         False          False                                             60536   \n",
       "                  True          False          False                                             59056   \n",
       "                                True           False                                            224315   \n",
       "True              False         False          False                                             45902   \n",
       "                  True          False          False                                             57176   \n",
       "                                True           False                                            234309   \n",
       "                                               True                                              39106   \n",
       "\n",
       "                                                                       fhs_sales_flat_order.store_id  \\\n",
       "flashsale_product flashsale_day flashsale_time flashsale_time_product                                  \n",
       "False             False         False          False                                           60536   \n",
       "                  True          False          False                                           59056   \n",
       "                                True           False                                          224315   \n",
       "True              False         False          False                                           45902   \n",
       "                  True          False          False                                           57176   \n",
       "                                True           False                                          234309   \n",
       "                                               True                                            39106   \n",
       "\n",
       "                                                                       fhs_sales_flat_order_item.item_id  \\\n",
       "flashsale_product flashsale_day flashsale_time flashsale_time_product                                      \n",
       "False             False         False          False                                               60536   \n",
       "                  True          False          False                                               59056   \n",
       "                                True           False                                              224315   \n",
       "True              False         False          False                                               45902   \n",
       "                  True          False          False                                               57176   \n",
       "                                True           False                                              234309   \n",
       "                                               True                                                39106   \n",
       "\n",
       "                                                                       fhs_sales_flat_order_item.order_id  \\\n",
       "flashsale_product flashsale_day flashsale_time flashsale_time_product                                       \n",
       "False             False         False          False                                                60536   \n",
       "                  True          False          False                                                59056   \n",
       "                                True           False                                               224315   \n",
       "True              False         False          False                                                45902   \n",
       "                  True          False          False                                                57176   \n",
       "                                True           False                                               234309   \n",
       "                                               True                                                 39106   \n",
       "\n",
       "                                                                       fhs_sales_flat_order_item.created_at  \\\n",
       "flashsale_product flashsale_day flashsale_time flashsale_time_product                                         \n",
       "False             False         False          False                                                  60536   \n",
       "                  True          False          False                                                  59056   \n",
       "                                True           False                                                 224315   \n",
       "True              False         False          False                                                  45902   \n",
       "                  True          False          False                                                  57176   \n",
       "                                True           False                                                 234309   \n",
       "                                               True                                                   39106   \n",
       "\n",
       "                                                                       fhs_sales_flat_order_item.product_id  \\\n",
       "flashsale_product flashsale_day flashsale_time flashsale_time_product                                         \n",
       "False             False         False          False                                                  60536   \n",
       "                  True          False          False                                                  59056   \n",
       "                                True           False                                                 224315   \n",
       "True              False         False          False                                                  45902   \n",
       "                  True          False          False                                                  57176   \n",
       "                                True           False                                                 234309   \n",
       "                                               True                                                   39106   \n",
       "\n",
       "                                                                       fhs_sales_flat_order_item.sku  \n",
       "flashsale_product flashsale_day flashsale_time flashsale_time_product                                 \n",
       "False             False         False          False                                           60536  \n",
       "                  True          False          False                                           59056  \n",
       "                                True           False                                          224315  \n",
       "True              False         False          False                                           45902  \n",
       "                  True          False          False                                           57176  \n",
       "                                True           False                                          234309  \n",
       "                                               True                                            39106  "
      ]
     },
     "execution_count": 24,
     "metadata": {},
     "output_type": "execute_result"
    }
   ],
   "source": [
    "a.groupby(['flashsale_product', 'flashsale_day', 'flashsale_time', 'flashsale_time_product']).count()"
   ]
  },
  {
   "cell_type": "markdown",
   "metadata": {},
   "source": [
    "- Ta show ra các tính trạng các đơn hàng"
   ]
  },
  {
   "cell_type": "code",
   "execution_count": 25,
   "metadata": {},
   "outputs": [
    {
     "data": {
      "text/plain": [
       "fhs_sales_flat_order.state\n",
       "canceled      246573\n",
       "complete      720400\n",
       "completed         12\n",
       "new              692\n",
       "processing     30120\n",
       "Name: fhs_sales_flat_order.entity_id, dtype: int64"
      ]
     },
     "execution_count": 25,
     "metadata": {},
     "output_type": "execute_result"
    }
   ],
   "source": [
    "fhs_sales_flat_order_item_state_2022  \\\n",
    "          .groupby(['fhs_sales_flat_order.state'])['fhs_sales_flat_order.entity_id'].count()\n"
   ]
  },
  {
   "cell_type": "code",
   "execution_count": 26,
   "metadata": {},
   "outputs": [
    {
     "data": {
      "image/png": "[encoded data removed]",
      "text/plain": [
       "<Figure size 1440x720 with 1 Axes>"
      ]
     },
     "metadata": {
      "needs_background": "light"
     },
     "output_type": "display_data"
    }
   ],
   "source": [
    "df = fhs_sales_flat_order_item_state_2022  \\\n",
    "          .groupby(['fhs_sales_flat_order.state'])['fhs_sales_flat_order.entity_id'].count()\n",
    "\n",
    "ax = df.plot.barh(figsize = (20, 10))\n",
    "ax.set_ylabel('')\n",
    "ax.set_xlabel('Số lượng đơn')\n",
    "ax.xaxis.label.set_fontsize(20)"
   ]
  },
  {
   "cell_type": "markdown",
   "metadata": {},
   "source": [
    "- Ta tập trung xử lí vào đơn complete và canceled"
   ]
  },
  {
   "cell_type": "code",
   "execution_count": 27,
   "metadata": {},
   "outputs": [
    {
     "data": {
      "text/plain": [
       "<seaborn.axisgrid.FacetGrid at 0x7f477f99e2f0>"
      ]
     },
     "execution_count": 27,
     "metadata": {},
     "output_type": "execute_result"
    },
    {
     "data": {
      "image/png": "[encoded data removed]",
      "text/plain": [
       "<Figure size 720x360 with 2 Axes>"
      ]
     },
     "metadata": {
      "needs_background": "light"
     },
     "output_type": "display_data"
    }
   ],
   "source": [
    "fhs_sales_flat_order_item_state_2022 = \\\n",
    "          fhs_sales_flat_order_item_state_2022\\\n",
    "                    .loc[(fhs_sales_flat_order_item_state_2022['fhs_sales_flat_order.state'].isin(['complete', 'canceled']))\n",
    "                    &    (fhs_sales_flat_order_item_state_2022['fhs_sales_flat_order.status'].isin(['complete', 'canceled']))]\n",
    "\n",
    "df = fhs_sales_flat_order_item_state_2022  \\\n",
    "          .groupby(['fhs_sales_flat_order.state', 'flashsale_time_product'])\\\n",
    "                    ['fhs_sales_flat_order.entity_id'].count()\n",
    "\n",
    "sns.displot(data = fhs_sales_flat_order_item_state_2022, \n",
    "          x = 'fhs_sales_flat_order.state', col = 'flashsale_time_product')"
   ]
  },
  {
   "cell_type": "code",
   "execution_count": 40,
   "metadata": {},
   "outputs": [
    {
     "data": {
      "text/plain": [
       "<AxesSubplot:xlabel='fhs_sales_flat_order_item.created_at', ylabel='Count'>"
      ]
     },
     "execution_count": 40,
     "metadata": {},
     "output_type": "execute_result"
    },
    {
     "data": {
      "image/png": "[encoded data removed]",
      "text/plain": [
       "<Figure size 1440x720 with 2 Axes>"
      ]
     },
     "metadata": {},
     "output_type": "display_data"
    }
   ],
   "source": [
    "fig, ax = plt.subplots(2, 1, figsize=(20,10))\n",
    "sns.histplot(data = fhs_sales_flat_order_item_state_2022\n",
    "                              .loc[fhs_sales_flat_order_item_state_2022['flashsale_time_product'] == True], \n",
    "          x = 'fhs_sales_flat_order_item.created_at', ax = ax[0])\n",
    "sns.histplot(data = fhs_sales_flat_order_item_state_2022\n",
    "                              .loc[fhs_sales_flat_order_item_state_2022['flashsale_time_product'] == False], \n",
    "          x = 'fhs_sales_flat_order_item.created_at', ax = ax[1])"
   ]
  },
  {
   "cell_type": "markdown",
   "metadata": {},
   "source": [
    "- Khác period id trong flash sale nhưng vẫn cùng ngày \n",
    "- Có thể lược bỏ, tuy nhiên có thể dẫn đến sai sót khi tính số lượng bán hàng chia cho total item"
   ]
  },
  {
   "cell_type": "markdown",
   "metadata": {},
   "source": [
    "- Temp là sản phẩm flashsale = True, sản phẩm bán trong ngày flashsale_day = True, sản phẩm được bán trong flashsale_time = True"
   ]
  },
  {
   "cell_type": "markdown",
   "metadata": {},
   "source": [
    "### cùng một sku, xem tần suất sale check những sản phẩm có tần suất sale lớn, xem sức bán có ổn định hay không"
   ]
  },
  {
   "cell_type": "markdown",
   "metadata": {},
   "source": [
    "https://stackoverflow.com/questions/43954182/unable-to-align-bins-in-a-histogram-of-datetime-objects-using-the-hist-functio"
   ]
  }
 ],
 "metadata": {
  "kernelspec": {
   "display_name": "Python 3.10.4 64-bit",
   "language": "python",
   "name": "python3"
  },
  "language_info": {
   "codemirror_mode": {
    "name": "ipython",
    "version": 3
   },
   "file_extension": ".py",
   "mimetype": "text/x-python",
   "name": "python",
   "nbconvert_exporter": "python",
   "pygments_lexer": "ipython3",
   "version": "3.10.4"
  },
  "orig_nbformat": 4,
  "vscode": {
   "interpreter": {
    "hash": "916dbcbb3f70747c44a77c7bcd40155683ae19c65e1c03b4aa3499c5328201f1"
   }
  }
 },
 "nbformat": 4,
 "nbformat_minor": 2
}
