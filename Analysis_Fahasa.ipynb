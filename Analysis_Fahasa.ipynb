{
 "cells": [
  {
   "cell_type": "markdown",
   "metadata": {},
   "source": [
    "- fhs_flashsale_product: (Thông tin flashsale của product)\n",
    "    * period_id : id của flashsale\n",
    "    * product_id : id của product \n",
    "    * original_price : giá gốc\n",
    "    * flashsale_price : giá sale\n",
    "    * total_items : số lượng sale\n",
    "    \n",
    "- fhs_flashsale_period: (Chứa thông tin flashsale về thời gian)\n",
    "    * id: id của flashsale (== period_id của fhs_flashsale_product)\n",
    "    * start_date, end_date: time bắt đầu kết thúc sale \n",
    "    * các cột khác không quan tâm\n",
    "    \n",
    "- fhs_catalog_product_entity: (Thông tin discount và ngày bắt đầu bán)\n",
    "    * entity_id: id của product (==product_id trong fhs_flashsale_product)\n",
    "    * sku : là mã sản phẩm (duy nhất và là khóa của sản phẩm dùng để truy các thông tin khác về sản phẩm)\n",
    "    * created_at : ngày bắt đầu bán\n",
    "    * discount_percent : phần trăm giảm giá so với giá bìa (trừ flashsale còn giá sản phẩm mọi lúc sẽ là giá gốc trừ đi disount này)\n",
    "\n",
    "- fhs_cataloginventory_stock_item: Bãng này là số lượng sản phẩm tồn nhưng ko dùng được, do bên db bị mất dữ liệu\n",
    "    \n",
    "- fhs_sales_flat_order: Chứa thông tin đơn hàng\n",
    "    * entity_id : id của đơn hàng (==order_id trong fhs_sales_flat_order_item)\n",
    "    * state : trạng thái đơn hàng\n",
    "    * status : trạng thái của trạng thái đơn hàng (ví dụ đơn hàng ở state đang giao, status là complete nghĩa là ở trang thái đang * giao đã hoàn thành)\n",
    "    * created_at : ngày tạo đơn\n",
    "    * updated_at : ngày cập nhật trạng thái\n",
    "    * store_id : id của kho, id < 4 cho thương mại điện tử  (nhớ thêm điều kiện store_id<4 khi query bảng này)\n",
    "\n",
    "- fhs_sales_flat_order_item: Chưa thông tin từng sản phẩm trong đơn hàng\n",
    "    * order_id: id của đơn hàng (==entity_id trong fhs_sales_flat_order)\n",
    "    * created_at: Ngày tạo đơn con\n",
    "    * product_id, sku : id và mã sản phẩm\n",
    "\n",
    "- fhs_catalog_product_entity_decimal: Bảng giá sản phẩm\n",
    "    * entity_id: id của product (==entity_id trong fhs_catalog_product_entity)\n",
    "    * attribute_id : loại giá (giá gốc 75, giá bán 76 (hoặc ngược lại chị không nhớ, chỉ quan tâm 2 loại này))\n",
    "    * value : giá bán của sản phẩm với attribute tương ứng\n",
    "    \n",
    "- fhs_product_stock_log: Bảng này là thông tin các sản phẩm đang bán hiện tại trên thị trường\n",
    "    * product_id, sku : id và mã của sp\n",
    "    * qty: số lượng trong kho\n",
    "    * is_in_stock: 1 là còn bán\n",
    "    * created_at: không rõ\n",
    "    * bảng này cũng không đáng tin lắm \n",
    "    \n",
    "- product_dim : Thông tin sp\n",
    "    * sku: mã\n",
    "    * name: tên\n",
    "    * cat1 tới cat5: là categories của sp\n",
    "    * price : giá gốc"
   ]
  },
  {
   "cell_type": "code",
   "execution_count": 109,
   "metadata": {},
   "outputs": [],
   "source": [
    "import pandas as pd\n",
    "import numpy as np\n",
    "import matplotlib.pyplot as plt"
   ]
  },
  {
   "cell_type": "code",
   "execution_count": 110,
   "metadata": {},
   "outputs": [],
   "source": [
    "fhs_flashsale_product = pd.read_csv('../Data/Data_Fahasa/fhs_flashsale_product.csv')\n",
    "fhs_flashsale_period = pd.read_csv('../Data/Data_Fahasa/fhs_flashsale_period.csv')\n",
    "fhs_catalog_product_entity = pd.read_csv('../Data/Data_Fahasa/fhs_catalog_product_entity.csv')\n",
    "fhs_sales_flat_order = pd.read_csv('../Data/Data_Fahasa/fhs_sales_flat_order.csv')\n",
    "fhs_sales_flat_order_item = pd.read_csv('../Data/Data_Fahasa/fhs_sales_flat_order_item.csv')\n",
    "fhs_catalog_product_entity_decimal = pd.read_csv('../Data/Data_Fahasa/fhs_catalog_product_entity_decimal.csv')\n",
    "fhs_product_stock_log = pd.read_csv('../Data/Data_Fahasa/fhs_product_stock_log.csv')\n",
    "product_dim = pd.read_csv('../Data/Data_Fahasa/product_dim.csv')"
   ]
  },
  {
   "cell_type": "markdown",
   "metadata": {},
   "source": [
    "### Ta đầu tiên đổi tên các cột trong từng dataframe để tránh trùng lập khi mở rộng"
   ]
  },
  {
   "cell_type": "code",
   "execution_count": 111,
   "metadata": {},
   "outputs": [],
   "source": [
    "def rename_columns(dataframe, dataframe_name):\n",
    "    \"\"\"\n",
    "    rename columns with patern: dataframe_name.columns_name\n",
    "    Input:\n",
    "        dataframe: Dataframe Pandas\n",
    "        dataframe_name: string\n",
    "    \"\"\"\n",
    "    columns = dataframe.columns\n",
    "    # rename columns\n",
    "    new_names = []\n",
    "    for index in range(len(columns)):\n",
    "        new_name = f'{dataframe_name}.{columns[index]}'\n",
    "        new_names.append(new_name)\n",
    "    \n",
    "    dataframe.columns = new_names\n",
    "\n",
    "rename_columns(fhs_flashsale_product, 'fhs_flashsale_product')\n",
    "rename_columns(fhs_flashsale_period, 'fhs_flashsale_period')\n",
    "rename_columns(fhs_catalog_product_entity, 'fhs_catalog_product_entity')\n",
    "rename_columns(fhs_sales_flat_order, 'fhs_sales_flat_order')\n",
    "rename_columns(fhs_sales_flat_order_item, 'fhs_sales_flat_order_item')\n",
    "rename_columns(fhs_catalog_product_entity_decimal, 'fhs_catalog_product_entity_decimal')\n",
    "rename_columns(fhs_product_stock_log, 'fhs_product_stock_log')\n",
    "rename_columns(product_dim, 'product_dim')"
   ]
  },
  {
   "cell_type": "markdown",
   "metadata": {},
   "source": [
    "### Xóa các cột không cần thiết của fhs_flashsale_period"
   ]
  },
  {
   "cell_type": "code",
   "execution_count": 112,
   "metadata": {},
   "outputs": [],
   "source": [
    "temp = fhs_flashsale_period.loc[:,\n",
    "    ['fhs_flashsale_period.id', 'fhs_flashsale_period.start_date', 'fhs_flashsale_period.end_date']]\n",
    "# xóa đi để tiết kiệm bộ nhớ\n",
    "del fhs_flashsale_period\n",
    "fhs_flashsale_period = temp"
   ]
  },
  {
   "cell_type": "markdown",
   "metadata": {},
   "source": [
    "### Chuyển các chuỗi thời gian về định dạng datetime"
   ]
  },
  {
   "cell_type": "code",
   "execution_count": 113,
   "metadata": {},
   "outputs": [],
   "source": [
    "def string_to_datetime(dataframe, column_name):\n",
    "          dataframe[f'{column_name}'] \\\n",
    "          = pd.to_datetime(dataframe[f'{column_name}'],\n",
    "                              format = '%Y/%m/%d %H:%M:%S')\n",
    "\n",
    "string_to_datetime(fhs_flashsale_period, 'fhs_flashsale_period.start_date')\n",
    "string_to_datetime(fhs_flashsale_period, 'fhs_flashsale_period.end_date')\n",
    "string_to_datetime(fhs_catalog_product_entity, 'fhs_catalog_product_entity.created_at')\n",
    "string_to_datetime(fhs_sales_flat_order, 'fhs_sales_flat_order.created_at')\n",
    "string_to_datetime(fhs_sales_flat_order, 'fhs_sales_flat_order.updated_at')\n",
    "string_to_datetime(fhs_sales_flat_order_item, 'fhs_sales_flat_order_item.created_at')\n",
    "string_to_datetime(fhs_product_stock_log, 'fhs_product_stock_log.created_at')\n",
    "\n"
   ]
  },
  {
   "cell_type": "code",
   "execution_count": 114,
   "metadata": {},
   "outputs": [
    {
     "name": "stdout",
     "output_type": "stream",
     "text": [
      "fhs_flashsale_product 397207\n",
      "fhs_catalog_product_entity 397396\n",
      "fhs_catalog_product_entity 352880\n",
      "fhs_product_stock_log 10250978\n",
      "fhs_catalog_product_entity 352880\n",
      "fhs_sales_flat_order_item 17828284\n"
     ]
    }
   ],
   "source": [
    "print('fhs_flashsale_product', fhs_flashsale_product['fhs_flashsale_product.product_id'].max())\n",
    "print('fhs_catalog_product_entity',fhs_catalog_product_entity['fhs_catalog_product_entity.entity_id'].max())\n",
    "print('fhs_catalog_product_entity',fhs_catalog_product_entity['fhs_catalog_product_entity.sku'].count())\n",
    "print('fhs_product_stock_log',fhs_product_stock_log['fhs_product_stock_log.sku'].count())\n",
    "print('fhs_catalog_product_entity',fhs_catalog_product_entity['fhs_catalog_product_entity.sku'].count())\n",
    "print('fhs_sales_flat_order_item',fhs_sales_flat_order_item['fhs_sales_flat_order_item.sku'].count())\n"
   ]
  },
  {
   "cell_type": "markdown",
   "metadata": {},
   "source": [
    "- Đầu tiên hãy rút ra một bảng gồm các đơn đặt hàng trong flash sale\n",
    "    * Lưu ý các đơn đặt hàng này phải thành công\n",
    "    * Sử dụng numpy để  query ra các dòng và lọc ra"
   ]
  },
  {
   "cell_type": "code",
   "execution_count": 115,
   "metadata": {},
   "outputs": [],
   "source": [
    "condition1 = np.where((fhs_sales_flat_order['fhs_sales_flat_order.state'] == 'complete')\n",
    "                        & (fhs_sales_flat_order['fhs_sales_flat_order.status'] == 'complete'))\n",
    "fhs_sales_flat_order_complete = fhs_sales_flat_order.loc[condition1]"
   ]
  },
  {
   "cell_type": "markdown",
   "metadata": {},
   "source": [
    "### Tiếp theo merge với fhs_sales_flat_order_item để có thông tin về tất cả các đơn đặt hàng\n",
    "\n",
    "biết được đơn hàng đang mua những mặt hàng nào từ đó ta mới có thể biết được liệu mặt hàng đó có trong flashsale hay không, và phải nằm trong khoảng thời gian sale"
   ]
  },
  {
   "cell_type": "code",
   "execution_count": 215,
   "metadata": {},
   "outputs": [],
   "source": [
    "fhs_sales_flat_order_complete_item  \\\n",
    "        = pd.merge(fhs_sales_flat_order_complete, fhs_sales_flat_order_item,\n",
    "                        left_on = 'fhs_sales_flat_order.entity_id', \n",
    "                        right_on = 'fhs_sales_flat_order_item.order_id')\n"
   ]
  },
  {
   "cell_type": "markdown",
   "metadata": {},
   "source": [
    "### Tiếp theo merge các cột flashsale để có thông tin về sản phẩm được bán trong đợt flashsale này"
   ]
  },
  {
   "cell_type": "code",
   "execution_count": 217,
   "metadata": {},
   "outputs": [
    {
     "name": "stdout",
     "output_type": "stream",
     "text": [
      "<class 'pandas.core.frame.DataFrame'>\n",
      "Int64Index: 3930772 entries, 0 to 3930771\n",
      "Data columns (total 12 columns):\n",
      " #   Column                                       Dtype         \n",
      "---  ------                                       -----         \n",
      " 0   fhs_flashsale_product.period_id              int64         \n",
      " 1   fhs_flashsale_product.product_id             int64         \n",
      " 2   fhs_flashsale_product.original_price         float64       \n",
      " 3   fhs_flashsale_product.flashsale_price        float64       \n",
      " 4   fhs_flashsale_product.total_items            float64       \n",
      " 5   fhs_flashsale_period.id                      int64         \n",
      " 6   fhs_flashsale_period.start_date              datetime64[ns]\n",
      " 7   fhs_flashsale_period.end_date                datetime64[ns]\n",
      " 8   fhs_catalog_product_entity.entity_id         int64         \n",
      " 9   fhs_catalog_product_entity.sku               object        \n",
      " 10  fhs_catalog_product_entity.created_at        datetime64[ns]\n",
      " 11  fhs_catalog_product_entity.discount_percent  float64       \n",
      "dtypes: datetime64[ns](3), float64(4), int64(4), object(1)\n",
      "memory usage: 389.9+ MB\n"
     ]
    }
   ],
   "source": [
    "temp = pd.merge(fhs_flashsale_product, fhs_flashsale_period, \n",
    "          left_on='fhs_flashsale_product.period_id', right_on='fhs_flashsale_period.id')\n",
    "fhs_flashsale_product_info = pd.merge(temp, fhs_catalog_product_entity, \n",
    "          left_on='fhs_flashsale_product.product_id', right_on='fhs_catalog_product_entity.entity_id')\n",
    "del temp\n",
    "fhs_flashsale_product_info.info()"
   ]
  },
  {
   "cell_type": "markdown",
   "metadata": {},
   "source": [
    "- Vì số lượng dòng quá lớn nên ta sẽ thực hiện chiến lược tách các sản phẩm theo từng nhóm:\n",
    ">         Theo năm: và mỗi năm chỉ lấy ra những sản phẩm bán chạy nhất hoặc lấy những sản phẩm trung bình\n",
    ">                 Có thể nghĩ đến chiến thuật lấy ngẫu nhiên sau đó dùng thống kê mô tả để dự đoán ảnh hưởng của flashsale đến lưu lượng bán hàng"
   ]
  },
  {
   "cell_type": "code",
   "execution_count": 118,
   "metadata": {},
   "outputs": [],
   "source": [
    "# Giả sử xét trong năm 2022\n",
    "import datetime \n",
    "min_year = pd.to_datetime('2022/1/1',\n",
    "                              format = '%Y/%m/%d %H:%M:%S')\n",
    "max_year = pd.to_datetime('2022/12/31 23:59:59',\n",
    "                              format = '%Y/%m/%d %H:%M:%S')\n",
    "\n",
    "condition2 = np.where((fhs_sales_flat_order_complete_item['fhs_sales_flat_order_item.created_at'] >=  min_year)\n",
    "          &           (fhs_sales_flat_order_complete_item['fhs_sales_flat_order_item.created_at'] <=  max_year))     \n",
    "fhs_sales_flat_order_complete_item_2022 = fhs_sales_flat_order_complete_item.loc[condition2] \n",
    "\n",
    "# Tương ứng với những sản phẩm được tung ra trong khoảng thời gian này 2022\n",
    "condition3 = np.where((fhs_flashsale_product_info['fhs_flashsale_period.start_date'] >=  min_year)\n",
    "          &           (fhs_flashsale_product_info['fhs_flashsale_period.start_date'] <=  max_year))\n",
    "fhs_flashsale_product_info_2022 = fhs_flashsale_product_info.loc[condition3] "
   ]
  },
  {
   "cell_type": "markdown",
   "metadata": {},
   "source": [
    "### Lọc ra những sản phẩm được đặt hàng có trong flashsale với điều kiện\n",
    "- #### Ngày tạo đơn trong ngày flashsale, và sku của sản phẩm phải trùng nhau"
   ]
  },
  {
   "cell_type": "code",
   "execution_count": 119,
   "metadata": {},
   "outputs": [
    {
     "name": "stdout",
     "output_type": "stream",
     "text": [
      "720400\n",
      "797530\n"
     ]
    }
   ],
   "source": [
    "print(len(fhs_sales_flat_order_complete_item_2022))\n",
    "print(len(fhs_flashsale_product_info_2022))"
   ]
  },
  {
   "cell_type": "code",
   "execution_count": 178,
   "metadata": {},
   "outputs": [
    {
     "name": "stdout",
     "output_type": "stream",
     "text": [
      "<class 'pandas.core.frame.DataFrame'>\n",
      "Int64Index: 3294 entries, 34100 to 8980077\n",
      "Data columns (total 24 columns):\n",
      " #   Column                                       Non-Null Count  Dtype         \n",
      "---  ------                                       --------------  -----         \n",
      " 0   fhs_sales_flat_order.entity_id               3294 non-null   int64         \n",
      " 1   fhs_sales_flat_order.increment_id            3294 non-null   float64       \n",
      " 2   fhs_sales_flat_order.state                   3294 non-null   object        \n",
      " 3   fhs_sales_flat_order.status                  3294 non-null   object        \n",
      " 4   fhs_sales_flat_order.created_at              3294 non-null   datetime64[ns]\n",
      " 5   fhs_sales_flat_order.updated_at              3294 non-null   datetime64[ns]\n",
      " 6   fhs_sales_flat_order.store_id                3294 non-null   int64         \n",
      " 7   fhs_sales_flat_order_item.item_id            3294 non-null   int64         \n",
      " 8   fhs_sales_flat_order_item.order_id           3294 non-null   int64         \n",
      " 9   fhs_sales_flat_order_item.created_at         3294 non-null   datetime64[ns]\n",
      " 10  fhs_sales_flat_order_item.product_id         3294 non-null   float64       \n",
      " 11  fhs_sales_flat_order_item.sku                3294 non-null   object        \n",
      " 12  fhs_flashsale_product.period_id              3294 non-null   int64         \n",
      " 13  fhs_flashsale_product.product_id             3294 non-null   int64         \n",
      " 14  fhs_flashsale_product.original_price         3294 non-null   float64       \n",
      " 15  fhs_flashsale_product.flashsale_price        3294 non-null   float64       \n",
      " 16  fhs_flashsale_product.total_items            3294 non-null   float64       \n",
      " 17  fhs_flashsale_period.id                      3294 non-null   int64         \n",
      " 18  fhs_flashsale_period.start_date              3294 non-null   datetime64[ns]\n",
      " 19  fhs_flashsale_period.end_date                3294 non-null   datetime64[ns]\n",
      " 20  fhs_catalog_product_entity.entity_id         3294 non-null   int64         \n",
      " 21  fhs_catalog_product_entity.sku               3294 non-null   object        \n",
      " 22  fhs_catalog_product_entity.created_at        3294 non-null   datetime64[ns]\n",
      " 23  fhs_catalog_product_entity.discount_percent  3294 non-null   float64       \n",
      "dtypes: datetime64[ns](6), float64(6), int64(8), object(4)\n",
      "memory usage: 643.4+ KB\n"
     ]
    }
   ],
   "source": [
    "# xác định các đơn hàng được đặt trong khoảng thời gian này\n",
    "# query các cột có cùng mãu sku\n",
    "fhs_flashsale_product_order_complete_2022 = \\\n",
    "          pd.merge(fhs_sales_flat_order_complete_item_2022, fhs_flashsale_product_info_2022, how = 'inner',\n",
    "                    left_on = 'fhs_sales_flat_order_item.sku', right_on='fhs_catalog_product_entity.sku')\n",
    "\n",
    "# nhớ loại bỏ các duplicate: ở đây ta dùng cách drop ducplicate ở left dataframe\n",
    "# vì mỗi một đơn hàng chỉ match với một sản phẩm bên phía sản phẩm sale\n",
    "# còn mỗi một sản phẩm sale có thể có nhiều đơn hàng nên không thể drop duplicate bằng cách này\n",
    "fhs_flashsale_product_order_complete_2022.drop_duplicates(subset = fhs_sales_flat_order_complete_item_2022.columns, \n",
    "          inplace = True)\n",
    "\n",
    "# sau đó đặt điều kiện về ngày sao cho ngày đặt của các sản phẩm phải nằm trong thời gian flashsale\n",
    "fhs_flashsale_product_order_complete_2022 = fhs_flashsale_product_order_complete_2022.loc[\n",
    "          (fhs_flashsale_product_order_complete_2022['fhs_sales_flat_order_item.created_at'] \\\n",
    "                    > fhs_flashsale_product_order_complete_2022['fhs_flashsale_period.start_date'])\n",
    "&         (fhs_flashsale_product_order_complete_2022['fhs_sales_flat_order_item.created_at'] \\\n",
    "                    < fhs_flashsale_product_order_complete_2022['fhs_flashsale_period.end_date'])]\n",
    "fhs_flashsale_product_order_complete_2022.info()"
   ]
  },
  {
   "cell_type": "code",
   "execution_count": 258,
   "metadata": {},
   "outputs": [
    {
     "name": "stdout",
     "output_type": "stream",
     "text": [
      "<class 'pandas.core.frame.DataFrame'>\n",
      "Int64Index: 373199 entries, 0 to 9009751\n",
      "Data columns (total 24 columns):\n",
      " #   Column                                       Non-Null Count   Dtype         \n",
      "---  ------                                       --------------   -----         \n",
      " 0   fhs_sales_flat_order.entity_id               373199 non-null  int64         \n",
      " 1   fhs_sales_flat_order.increment_id            373199 non-null  float64       \n",
      " 2   fhs_sales_flat_order.state                   373199 non-null  object        \n",
      " 3   fhs_sales_flat_order.status                  373199 non-null  object        \n",
      " 4   fhs_sales_flat_order.created_at              373199 non-null  datetime64[ns]\n",
      " 5   fhs_sales_flat_order.updated_at              373199 non-null  datetime64[ns]\n",
      " 6   fhs_sales_flat_order.store_id                373199 non-null  int64         \n",
      " 7   fhs_sales_flat_order_item.item_id            373199 non-null  int64         \n",
      " 8   fhs_sales_flat_order_item.order_id           373199 non-null  int64         \n",
      " 9   fhs_sales_flat_order_item.created_at         373199 non-null  datetime64[ns]\n",
      " 10  fhs_sales_flat_order_item.product_id         373199 non-null  float64       \n",
      " 11  fhs_sales_flat_order_item.sku                373199 non-null  object        \n",
      " 12  fhs_flashsale_product.period_id              373199 non-null  int64         \n",
      " 13  fhs_flashsale_product.product_id             373199 non-null  int64         \n",
      " 14  fhs_flashsale_product.original_price         373199 non-null  float64       \n",
      " 15  fhs_flashsale_product.flashsale_price        373199 non-null  float64       \n",
      " 16  fhs_flashsale_product.total_items            373199 non-null  float64       \n",
      " 17  fhs_flashsale_period.id                      373199 non-null  int64         \n",
      " 18  fhs_flashsale_period.start_date              373199 non-null  datetime64[ns]\n",
      " 19  fhs_flashsale_period.end_date                373199 non-null  datetime64[ns]\n",
      " 20  fhs_catalog_product_entity.entity_id         373199 non-null  int64         \n",
      " 21  fhs_catalog_product_entity.sku               373199 non-null  object        \n",
      " 22  fhs_catalog_product_entity.created_at        373199 non-null  datetime64[ns]\n",
      " 23  fhs_catalog_product_entity.discount_percent  373199 non-null  float64       \n",
      "dtypes: datetime64[ns](6), float64(6), int64(8), object(4)\n",
      "memory usage: 71.2+ MB\n"
     ]
    }
   ],
   "source": [
    "# xác định các đơn hàng được đặt trong khoảng thời gian này\n",
    "# query các cột có cùng mãu sku\n",
    "fhs_not_flashsale_product_order_complete_2022 = \\\n",
    "          pd.merge(fhs_sales_flat_order_complete_item_2022, fhs_flashsale_product_info_2022, how = 'inner',\n",
    "                    left_on = 'fhs_sales_flat_order_item.sku', right_on='fhs_catalog_product_entity.sku')\n",
    "\n",
    "# nhớ loại bỏ các duplicate: ở đây ta dùng cách drop ducplicate ở left dataframe\n",
    "# vì mỗi một đơn hàng chỉ match với một sản phẩm bên phía sản phẩm sale\n",
    "# còn mỗi một sản phẩm sale có thể có nhiều đơn hàng nên không thể drop duplicate bằng cách này\n",
    "fhs_not_flashsale_product_order_complete_2022.drop_duplicates(subset = fhs_sales_flat_order_complete_item_2022.columns, \n",
    "          inplace = True)\n",
    "\n",
    "\n",
    "# sau đó đặt điều kiện về ngày sao cho ngày đặt của các sản phẩm phải không trong thời gian flashsale\n",
    "fhs_not_flashsale_product_order_complete_2022 = fhs_not_flashsale_product_order_complete_2022.loc[\n",
    "          np.invert((fhs_not_flashsale_product_order_complete_2022['fhs_sales_flat_order_item.created_at'] \\\n",
    "                    > fhs_not_flashsale_product_order_complete_2022['fhs_flashsale_period.start_date'])\n",
    "&         (fhs_not_flashsale_product_order_complete_2022['fhs_sales_flat_order_item.created_at'] \\\n",
    "                    < fhs_not_flashsale_product_order_complete_2022['fhs_flashsale_period.end_date']))]\n",
    "fhs_not_flashsale_product_order_complete_2022.info()"
   ]
  },
  {
   "cell_type": "markdown",
   "metadata": {},
   "source": [
    "### Ta sẽ visualize thử số mặt lượng hàng bán trong các tháng trong năm 2022:\n",
    "          - Đầu tiên ta sẽ group by các hàng flash sale được bán trong các thàng trong năm 2022\n",
    "          - Sau đó show ra cùng loại hàng trong cùng ngày nhưng không có flash sale để so sánh lưu lượng mua của khách hàng cùng loại hàng flash sale\n",
    "          - Với các thông tin có sẵn fhs_flashsale_product_order_complete_2022 là dataframe chứa các đơn hàng complete flashsale\n",
    "          - fhs_not_flashsale_product_order_complete_2022 là dataframe chứa các đơn hàng trong ngày nhưng không được mua vào giờ flashsale"
   ]
  },
  {
   "cell_type": "code",
   "execution_count": 259,
   "metadata": {},
   "outputs": [],
   "source": [
    "# Ta group by theo tháng lần lượt hàng flashsale và hàng không flashsale trong ngày\n",
    "flash_sale_product_2022 = fhs_flashsale_product_order_complete_2022['fhs_sales_flat_order_item.created_at'] \\\n",
    "          .groupby(fhs_flashsale_product_order_complete_2022['fhs_sales_flat_order_item.created_at'].dt.month).count()\n",
    "no_flash_sale_product_2022 = fhs_not_flashsale_product_order_complete_2022['fhs_sales_flat_order_item.created_at'] \\\n",
    "          .groupby(fhs_not_flashsale_product_order_complete_2022['fhs_sales_flat_order_item.created_at'].dt.month).count()"
   ]
  },
  {
   "cell_type": "code",
   "execution_count": 260,
   "metadata": {},
   "outputs": [
    {
     "data": {
      "image/png": "[encoded data removed]",
      "text/plain": [
       "<Figure size 1080x720 with 1 Axes>"
      ]
     },
     "metadata": {
      "needs_background": "light"
     },
     "output_type": "display_data"
    }
   ],
   "source": [
    "X = set(fhs_flashsale_product_order_complete_2022['fhs_sales_flat_order_item.created_at'] \\\n",
    "          .groupby(fhs_flashsale_product_order_complete_2022['fhs_sales_flat_order_item.created_at'].dt.month).keys)\n",
    "index = list(X)\n",
    "df = pd.DataFrame({'flashsale': flash_sale_product_2022,\n",
    "                   'no_flashsale': no_flash_sale_product_2022}, index=index)\n",
    "ax = df.plot.bar(rot = 0, figsize = (15, 10), title = 'So sánh số lượng hàng được flashsale bán ra trong các tháng')\n",
    "for container in ax.containers:\n",
    "    ax.bar_label(container)"
   ]
  },
  {
   "cell_type": "markdown",
   "metadata": {},
   "source": [
    "- Có thể thấy được phần trăm hàng flash_sale có vẻ không chiếm quá nhiều, tuy nhiên cách so sánh này có vẻ hơi bias, ta sẽ xem thử trung bình hàng tháng số lượng hàng flashsale chiếm bao nhiêu phần trăm số lượng hàng được tung ra để có cái nhìn khách quan hơn.\n",
    "- Ta cũng có thể đánh giá nhanh rằng flashsale không ảnh hưởng qúa nhiều đến lưu lượng bán"
   ]
  },
  {
   "cell_type": "markdown",
   "metadata": {},
   "source": [
    "## Ở trên chỉ mới là so sánh lưu lượng của sản phẩm flash sale tổng thể, hãy thử vào sâu hơn như là so sánh lưu lượng mua bán trong ngày của 1 loại sản phẩm flashsale so với không có flashsale"
   ]
  },
  {
   "cell_type": "code",
   "execution_count": 263,
   "metadata": {},
   "outputs": [
    {
     "name": "stdout",
     "output_type": "stream",
     "text": [
      "<class 'pandas.core.frame.DataFrame'>\n",
      "Int64Index: 12063 entries, 11655 to 9005205\n",
      "Data columns (total 24 columns):\n",
      " #   Column                                       Non-Null Count  Dtype         \n",
      "---  ------                                       --------------  -----         \n",
      " 0   fhs_sales_flat_order.entity_id               12063 non-null  int64         \n",
      " 1   fhs_sales_flat_order.increment_id            12063 non-null  float64       \n",
      " 2   fhs_sales_flat_order.state                   12063 non-null  object        \n",
      " 3   fhs_sales_flat_order.status                  12063 non-null  object        \n",
      " 4   fhs_sales_flat_order.created_at              12063 non-null  datetime64[ns]\n",
      " 5   fhs_sales_flat_order.updated_at              12063 non-null  datetime64[ns]\n",
      " 6   fhs_sales_flat_order.store_id                12063 non-null  int64         \n",
      " 7   fhs_sales_flat_order_item.item_id            12063 non-null  int64         \n",
      " 8   fhs_sales_flat_order_item.order_id           12063 non-null  int64         \n",
      " 9   fhs_sales_flat_order_item.created_at         12063 non-null  datetime64[ns]\n",
      " 10  fhs_sales_flat_order_item.product_id         12063 non-null  float64       \n",
      " 11  fhs_sales_flat_order_item.sku                12063 non-null  object        \n",
      " 12  fhs_flashsale_product.period_id              12063 non-null  int64         \n",
      " 13  fhs_flashsale_product.product_id             12063 non-null  int64         \n",
      " 14  fhs_flashsale_product.original_price         12063 non-null  float64       \n",
      " 15  fhs_flashsale_product.flashsale_price        12063 non-null  float64       \n",
      " 16  fhs_flashsale_product.total_items            12063 non-null  float64       \n",
      " 17  fhs_flashsale_period.id                      12063 non-null  int64         \n",
      " 18  fhs_flashsale_period.start_date              12063 non-null  datetime64[ns]\n",
      " 19  fhs_flashsale_period.end_date                12063 non-null  datetime64[ns]\n",
      " 20  fhs_catalog_product_entity.entity_id         12063 non-null  int64         \n",
      " 21  fhs_catalog_product_entity.sku               12063 non-null  object        \n",
      " 22  fhs_catalog_product_entity.created_at        12063 non-null  datetime64[ns]\n",
      " 23  fhs_catalog_product_entity.discount_percent  12063 non-null  float64       \n",
      "dtypes: datetime64[ns](6), float64(6), int64(8), object(4)\n",
      "memory usage: 2.3+ MB\n"
     ]
    }
   ],
   "source": [
    "# xác định các đơn hàng được đặt trong khoảng thời gian này\n",
    "# query các cột có cùng mãu sku\n",
    "fhs_not_flashsale_product_order_complete_2022 = \\\n",
    "          pd.merge(fhs_sales_flat_order_complete_item_2022, fhs_flashsale_product_info_2022, how = 'inner',\n",
    "                    left_on = 'fhs_sales_flat_order_item.sku', right_on='fhs_catalog_product_entity.sku')\n",
    "\n",
    "# nhớ loại bỏ các duplicate: ở đây ta dùng cách drop ducplicate ở left dataframe\n",
    "# vì mỗi một đơn hàng chỉ match với một sản phẩm bên phía sản phẩm sale\n",
    "# còn mỗi một sản phẩm sale có thể có nhiều đơn hàng nên không thể drop duplicate bằng cách này\n",
    "fhs_not_flashsale_product_order_complete_2022.drop_duplicates(subset = fhs_sales_flat_order_complete_item_2022.columns, \n",
    "          inplace = True)\n",
    "\n",
    "\n",
    "# sau đó đặt điều kiện về ngày sao cho ngày đặt của các sản phẩm phải không trong thời gian flashsale và cùng ngày\n",
    "fhs_not_flashsale_day_product_order_complete_2022 = fhs_not_flashsale_product_order_complete_2022.loc[\n",
    "          np.invert((fhs_not_flashsale_product_order_complete_2022['fhs_sales_flat_order_item.created_at'] \\\n",
    "                    > fhs_not_flashsale_product_order_complete_2022['fhs_flashsale_period.start_date'])\n",
    "&         (fhs_not_flashsale_product_order_complete_2022['fhs_sales_flat_order_item.created_at'] \\\n",
    "                    < fhs_not_flashsale_product_order_complete_2022['fhs_flashsale_period.end_date']))\n",
    "&         (fhs_not_flashsale_product_order_complete_2022['fhs_sales_flat_order_item.created_at'].dt.day_of_year \\\n",
    "                    == fhs_not_flashsale_product_order_complete_2022['fhs_flashsale_period.end_date'].dt.day_of_year)]\n",
    "fhs_not_flashsale_day_product_order_complete_2022.info()"
   ]
  },
  {
   "cell_type": "code",
   "execution_count": 264,
   "metadata": {},
   "outputs": [],
   "source": [
    "# Ta group by theo tháng lần lượt hàng flashsale và hàng không flashsale trong ngày\n",
    "flash_sale_product_2022 = fhs_flashsale_product_order_complete_2022['fhs_sales_flat_order_item.created_at'] \\\n",
    "          .groupby(fhs_flashsale_product_order_complete_2022['fhs_sales_flat_order_item.created_at'].dt.month).count()\n",
    "no_flash_sale_day_product_2022 = fhs_not_flashsale_day_product_order_complete_2022['fhs_sales_flat_order_item.created_at'] \\\n",
    "          .groupby(fhs_not_flashsale_day_product_order_complete_2022['fhs_sales_flat_order_item.created_at'].dt.month).count()"
   ]
  },
  {
   "cell_type": "code",
   "execution_count": 265,
   "metadata": {},
   "outputs": [
    {
     "data": {
      "image/png": "[encoded data removed]",
      "text/plain": [
       "<Figure size 1080x720 with 1 Axes>"
      ]
     },
     "metadata": {
      "needs_background": "light"
     },
     "output_type": "display_data"
    }
   ],
   "source": [
    "X = set(fhs_not_flashsale_day_product_order_complete_2022['fhs_sales_flat_order_item.created_at'] \\\n",
    "          .groupby(fhs_not_flashsale_day_product_order_complete_2022['fhs_sales_flat_order_item.created_at'].dt.month).keys)\n",
    "index = list(X)\n",
    "df = pd.DataFrame({'flashsale': flash_sale_product_2022,\n",
    "                   'no_flashsale': no_flash_sale_day_product_2022}, index=index)\n",
    "ax = df.plot.bar(rot = 0, figsize = (15, 10), \n",
    "          title = 'So sánh số lượng hàng được flashsale bán ra trong các tháng so sánh trong cùng ngày')\n",
    "for container in ax.containers:\n",
    "    ax.bar_label(container)"
   ]
  },
  {
   "cell_type": "markdown",
   "metadata": {},
   "source": [
    "- Tiếp theo so sánh lưu lượng mua hàng ở các ngày có flash sale và các ngày không flash sale để xem thử liệu nghe thông báo flash sale khách hàng có hứng thú hay không (lưu ý khi nãy giờ chúng ta chỉ so sánh lưu lượng mua của hàng flash sale chứ không xét đến ngày flash sale hàng hóa có mua nhiều hơn không)"
   ]
  },
  {
   "cell_type": "code",
   "execution_count": null,
   "metadata": {},
   "outputs": [],
   "source": []
  },
  {
   "cell_type": "code",
   "execution_count": 266,
   "metadata": {},
   "outputs": [
    {
     "data": {
      "text/plain": [
       "{1, 2, 4}"
      ]
     },
     "execution_count": 266,
     "metadata": {},
     "output_type": "execute_result"
    }
   ],
   "source": [
    "set(fhs_sales_flat_order['fhs_sales_flat_order.store_id'])"
   ]
  },
  {
   "cell_type": "markdown",
   "metadata": {},
   "source": [
    "## Tiếp theo ta thử show ra tỉ lệ giữa hàng bán được so với hàng tung ra"
   ]
  },
  {
   "cell_type": "code",
   "execution_count": null,
   "metadata": {},
   "outputs": [],
   "source": [
    "# Ta có được số lượng hàng bán qua từng tháng\n",
    "flash_sale_product_2022 \n",
    "# Ta lấy tống lượng hàng flashsale tung ra để bán\n",
    "no_flash_sale_product_2022 = fhs_flashsale_product_info_2022['fhs_flashsale_product.total_items']\\\n",
    "          .groupby(fhs_flashsale_product_info_2022['fhs_flashsale_period.start_date'].dt.month).sum()"
   ]
  },
  {
   "cell_type": "code",
   "execution_count": 251,
   "metadata": {},
   "outputs": [
    {
     "data": {
      "image/png": "[encoded data removed]",
      "text/plain": [
       "<Figure size 1080x720 with 1 Axes>"
      ]
     },
     "metadata": {
      "needs_background": "light"
     },
     "output_type": "display_data"
    }
   ],
   "source": [
    "X = set(fhs_flashsale_product_info_2022['fhs_flashsale_period.start_date'] \\\n",
    "          .groupby(fhs_flashsale_product_info_2022['fhs_flashsale_period.start_date'].dt.month).keys)\n",
    "index = list(X)\n",
    "\n",
    "percentage_flashsale = flash_sale_product_2022.to_numpy()/no_flash_sale_product_2022.to_numpy()\n",
    "\n",
    "df = pd.DataFrame({'Percent': percentage_flashsale}, index = index)\n",
    "ax = df.plot.bar(rot = 0, figsize = (15, 10), title = 'Tỉ lệ bán ra sản phẩm so với tỉ lệ hàng tung ra')\n",
    "for container in ax.containers:\n",
    "    ax.bar_label(container)"
   ]
  },
  {
   "cell_type": "markdown",
   "metadata": {},
   "source": [
    "### Cách tính trung bình mang đến kết quả:\n",
    "- Flashsale thực sự không thúc đẩy đến việc bán hàng và thậm chí phần trăm chiếm rất thấp \n",
    "- Ta cần phải tính sâu vào hơn xem thử những mặt hàng nào được bán chạy hơn và những mặt hàng nào không bán được khiến cho tỉ lệ phần trăm thấp như vậy. Từ đó thúc đẩy bán thêm những sản phẩm bán chạy, và loại bỏ dần những sản phẩm không ai mua\n",
    "- "
   ]
  }
 ],
 "metadata": {
  "kernelspec": {
   "display_name": "Python 3.10.4 64-bit",
   "language": "python",
   "name": "python3"
  },
  "language_info": {
   "codemirror_mode": {
    "name": "ipython",
    "version": 3
   },
   "file_extension": ".py",
   "mimetype": "text/x-python",
   "name": "python",
   "nbconvert_exporter": "python",
   "pygments_lexer": "ipython3",
   "version": "3.10.4"
  },
  "orig_nbformat": 4,
  "vscode": {
   "interpreter": {
    "hash": "916dbcbb3f70747c44a77c7bcd40155683ae19c65e1c03b4aa3499c5328201f1"
   }
  }
 },
 "nbformat": 4,
 "nbformat_minor": 2
}
