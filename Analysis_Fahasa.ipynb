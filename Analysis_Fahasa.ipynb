{
 "cells": [
  {
   "cell_type": "markdown",
   "metadata": {},
   "source": [
    "- fhs_flashsale_product: (Thông tin flashsale của product)\n",
    "    * period_id : id của flashsale\n",
    "    * product_id : id của product \n",
    "    * original_price : giá gốc\n",
    "    * flashsale_price : giá sale\n",
    "    * total_items : số lượng sale\n",
    "    \n",
    "- fhs_flashsale_period: (Chứa thông tin flashsale về thời gian)\n",
    "    * id: id của flashsale (== period_id của fhs_flashsale_product)\n",
    "    * start_date, end_date: time bắt đầu kết thúc sale \n",
    "    * các cột khác không quan tâm\n",
    "    \n",
    "- fhs_catalog_product_entity: (Thông tin discount và ngày bắt đầu bán)\n",
    "    * entity_id: id của product (==product_id trong fhs_flashsale_product)\n",
    "    * sku : là mã sản phẩm (duy nhất và là khóa của sản phẩm dùng để truy các thông tin khác về sản phẩm)\n",
    "    * created_at : ngày bắt đầu bán\n",
    "    * discount_percent : phần trăm giảm giá so với giá bìa (trừ flashsale còn giá sản phẩm mọi lúc sẽ là giá gốc trừ đi disount này)\n",
    "\n",
    "- fhs_cataloginventory_stock_item: Bãng này là số lượng sản phẩm tồn nhưng ko dùng được, do bên db bị mất dữ liệu\n",
    "    \n",
    "- fhs_sales_flat_order: Chứa thông tin đơn hàng\n",
    "    * entity_id : id của đơn hàng (==order_id trong fhs_sales_flat_order_item)\n",
    "    * state : trạng thái đơn hàng\n",
    "    * status : trạng thái của trạng thái đơn hàng (ví dụ đơn hàng ở state đang giao, status là complete nghĩa là ở trang thái đang * giao đã hoàn thành)\n",
    "    * created_at : ngày tạo đơn\n",
    "    * updated_at : ngày cập nhật trạng thái\n",
    "    * store_id : id của kho, id < 4 cho thương mại điện tử  (nhớ thêm điều kiện store_id<4 khi query bảng này)\n",
    "\n",
    "- fhs_sales_flat_order_item: Chưa thông tin từng sản phẩm trong đơn hàng\n",
    "    * order_id: id của đơn hàng (==entity_id trong fhs_sales_flat_order)\n",
    "    * created_at: Ngày tạo đơn con\n",
    "    * product_id, sku : id và mã sản phẩm\n",
    "\n",
    "- fhs_catalog_product_entity_decimal: Bảng giá sản phẩm\n",
    "    * entity_id: id của product (==entity_id trong fhs_catalog_product_entity)\n",
    "    * attribute_id : loại giá (giá gốc 75, giá bán 76 (hoặc ngược lại chị không nhớ, chỉ quan tâm 2 loại này))\n",
    "    * value : giá bán của sản phẩm với attribute tương ứng\n",
    "    \n",
    "- fhs_product_stock_log: Bảng này là thông tin các sản phẩm đang bán hiện tại trên thị trường\n",
    "    * product_id, sku : id và mã của sp\n",
    "    * qty: số lượng trong kho\n",
    "    * is_in_stock: 1 là còn bán\n",
    "    * created_at: không rõ\n",
    "    * bảng này cũng không đáng tin lắm \n",
    "    \n",
    "- product_dim : Thông tin sp\n",
    "    * sku: mã\n",
    "    * name: tên\n",
    "    * cat1 tới cat5: là categories của sp\n",
    "    * price : giá gốc"
   ]
  },
  {
   "cell_type": "code",
   "execution_count": 110,
   "metadata": {},
   "outputs": [],
   "source": [
    "import pandas as pd\n",
    "import numpy as np\n",
    "import matplotlib.pyplot as plt"
   ]
  },
  {
   "cell_type": "code",
   "execution_count": 111,
   "metadata": {},
   "outputs": [],
   "source": [
    "fhs_flashsale_product = pd.read_csv('../Data/Data_Fahasa/fhs_flashsale_product.csv')\n",
    "fhs_flashsale_period = pd.read_csv('../Data/Data_Fahasa/fhs_flashsale_period.csv')\n",
    "fhs_catalog_product_entity = pd.read_csv('../Data/Data_Fahasa/fhs_catalog_product_entity.csv')\n",
    "fhs_sales_flat_order = pd.read_csv('../Data/Data_Fahasa/fhs_sales_flat_order.csv')\n",
    "fhs_sales_flat_order_item = pd.read_csv('../Data/Data_Fahasa/fhs_sales_flat_order_item.csv')\n",
    "fhs_catalog_product_entity_decimal = pd.read_csv('../Data/Data_Fahasa/fhs_catalog_product_entity_decimal.csv')\n",
    "fhs_product_stock_log = pd.read_csv('../Data/Data_Fahasa/fhs_product_stock_log.csv')\n",
    "product_dim = pd.read_csv('../Data/Data_Fahasa/product_dim.csv')"
   ]
  },
  {
   "cell_type": "markdown",
   "metadata": {},
   "source": [
    "### Ta đầu tiên đổi tên các cột trong từng dataframe để tránh trùng lập khi mở rộng"
   ]
  },
  {
   "cell_type": "code",
   "execution_count": 112,
   "metadata": {},
   "outputs": [],
   "source": [
    "def rename_columns(dataframe, dataframe_name):\n",
    "    \"\"\"\n",
    "    rename columns with patern: dataframe_name.columns_name\n",
    "    Input:\n",
    "        dataframe: Dataframe Pandas\n",
    "        dataframe_name: string\n",
    "    \"\"\"\n",
    "    columns = dataframe.columns\n",
    "    # rename columns\n",
    "    new_names = []\n",
    "    for index in range(len(columns)):\n",
    "        new_name = f'{dataframe_name}.{columns[index]}'\n",
    "        new_names.append(new_name)\n",
    "    \n",
    "    dataframe.columns = new_names\n",
    "\n",
    "rename_columns(fhs_flashsale_product, 'fhs_flashsale_product')\n",
    "rename_columns(fhs_flashsale_period, 'fhs_flashsale_period')\n",
    "rename_columns(fhs_catalog_product_entity, 'fhs_catalog_product_entity')\n",
    "rename_columns(fhs_sales_flat_order, 'fhs_sales_flat_order')\n",
    "rename_columns(fhs_sales_flat_order_item, 'fhs_sales_flat_order_item')\n",
    "rename_columns(fhs_catalog_product_entity_decimal, 'fhs_catalog_product_entity_decimal')\n",
    "rename_columns(fhs_product_stock_log, 'fhs_product_stock_log')\n",
    "rename_columns(product_dim, 'product_dim')"
   ]
  },
  {
   "cell_type": "markdown",
   "metadata": {},
   "source": [
    "### Xóa các cột không cần thiết của fhs_flashsale_period"
   ]
  },
  {
   "cell_type": "code",
   "execution_count": 113,
   "metadata": {},
   "outputs": [],
   "source": [
    "temp = fhs_flashsale_period.loc[:,\n",
    "    ['fhs_flashsale_period.id', 'fhs_flashsale_period.start_date', 'fhs_flashsale_period.end_date']]\n",
    "# xóa đi để tiết kiệm bộ nhớ\n",
    "del fhs_flashsale_period\n",
    "fhs_flashsale_period = temp"
   ]
  },
  {
   "cell_type": "markdown",
   "metadata": {},
   "source": [
    "### Chuyển các chuỗi thời gian về định dạng datetime"
   ]
  },
  {
   "cell_type": "code",
   "execution_count": 114,
   "metadata": {},
   "outputs": [],
   "source": [
    "def string_to_datetime(dataframe, column_name):\n",
    "          dataframe[f'{column_name}'] \\\n",
    "          = pd.to_datetime(dataframe[f'{column_name}'],\n",
    "                              format = '%Y/%m/%d %H:%M:%S')\n",
    "\n",
    "string_to_datetime(fhs_flashsale_period, 'fhs_flashsale_period.start_date')\n",
    "string_to_datetime(fhs_flashsale_period, 'fhs_flashsale_period.end_date')\n",
    "string_to_datetime(fhs_catalog_product_entity, 'fhs_catalog_product_entity.created_at')\n",
    "string_to_datetime(fhs_sales_flat_order, 'fhs_sales_flat_order.created_at')\n",
    "string_to_datetime(fhs_sales_flat_order, 'fhs_sales_flat_order.updated_at')\n",
    "string_to_datetime(fhs_sales_flat_order_item, 'fhs_sales_flat_order_item.created_at')\n",
    "string_to_datetime(fhs_product_stock_log, 'fhs_product_stock_log.created_at')\n",
    "\n"
   ]
  },
  {
   "cell_type": "code",
   "execution_count": 115,
   "metadata": {},
   "outputs": [
    {
     "name": "stdout",
     "output_type": "stream",
     "text": [
      "fhs_flashsale_product 397207\n",
      "fhs_catalog_product_entity 397396\n",
      "fhs_catalog_product_entity 352880\n",
      "fhs_product_stock_log 10250978\n",
      "fhs_catalog_product_entity 352880\n",
      "fhs_sales_flat_order_item 17828284\n"
     ]
    }
   ],
   "source": [
    "print('fhs_flashsale_product', fhs_flashsale_product['fhs_flashsale_product.product_id'].max())\n",
    "print('fhs_catalog_product_entity',fhs_catalog_product_entity['fhs_catalog_product_entity.entity_id'].max())\n",
    "print('fhs_catalog_product_entity',fhs_catalog_product_entity['fhs_catalog_product_entity.sku'].count())\n",
    "print('fhs_product_stock_log',fhs_product_stock_log['fhs_product_stock_log.sku'].count())\n",
    "print('fhs_catalog_product_entity',fhs_catalog_product_entity['fhs_catalog_product_entity.sku'].count())\n",
    "print('fhs_sales_flat_order_item',fhs_sales_flat_order_item['fhs_sales_flat_order_item.sku'].count())\n"
   ]
  },
  {
   "cell_type": "markdown",
   "metadata": {},
   "source": [
    "- Đầu tiên hãy rút ra một bảng gồm các đơn đặt hàng trong flash sale\n",
    "    * Lưu ý các đơn đặt hàng này phải thành công\n",
    "    * Sử dụng numpy để  query ra các dòng và lọc ra"
   ]
  },
  {
   "cell_type": "code",
   "execution_count": 116,
   "metadata": {},
   "outputs": [],
   "source": [
    "condition1 = np.where((fhs_sales_flat_order['fhs_sales_flat_order.state'] == 'complete')\n",
    "                        & (fhs_sales_flat_order['fhs_sales_flat_order.status'] == 'complete'))\n",
    "fhs_sales_flat_order_complete = fhs_sales_flat_order.loc[condition1]"
   ]
  },
  {
   "cell_type": "markdown",
   "metadata": {},
   "source": [
    "### Tiếp theo merge với fhs_sales_flat_order_item để có thông tin về tất cả các đơn đặt hàng\n",
    "\n",
    "biết được đơn hàng đang mua những mặt hàng nào từ đó ta mới có thể biết được liệu mặt hàng đó có trong flashsale hay không, và phải nằm trong khoảng thời gian sale"
   ]
  },
  {
   "cell_type": "code",
   "execution_count": 117,
   "metadata": {},
   "outputs": [
    {
     "name": "stdout",
     "output_type": "stream",
     "text": [
      "<class 'pandas.core.frame.DataFrame'>\n",
      "Int64Index: 11128362 entries, 0 to 11128361\n",
      "Data columns (total 12 columns):\n",
      " #   Column                                Dtype         \n",
      "---  ------                                -----         \n",
      " 0   fhs_sales_flat_order.entity_id        int64         \n",
      " 1   fhs_sales_flat_order.increment_id     float64       \n",
      " 2   fhs_sales_flat_order.state            object        \n",
      " 3   fhs_sales_flat_order.status           object        \n",
      " 4   fhs_sales_flat_order.created_at       datetime64[ns]\n",
      " 5   fhs_sales_flat_order.updated_at       datetime64[ns]\n",
      " 6   fhs_sales_flat_order.store_id         int64         \n",
      " 7   fhs_sales_flat_order_item.item_id     int64         \n",
      " 8   fhs_sales_flat_order_item.order_id    int64         \n",
      " 9   fhs_sales_flat_order_item.created_at  datetime64[ns]\n",
      " 10  fhs_sales_flat_order_item.product_id  float64       \n",
      " 11  fhs_sales_flat_order_item.sku         object        \n",
      "dtypes: datetime64[ns](3), float64(2), int64(4), object(3)\n",
      "memory usage: 1.1+ GB\n"
     ]
    }
   ],
   "source": [
    "fhs_sales_flat_order_complete_item  \\\n",
    "        = pd.merge(fhs_sales_flat_order_complete, fhs_sales_flat_order_item,\n",
    "                        left_on = 'fhs_sales_flat_order.entity_id', \n",
    "                        right_on = 'fhs_sales_flat_order_item.order_id')\n",
    "fhs_sales_flat_order_complete_item.info()"
   ]
  },
  {
   "cell_type": "markdown",
   "metadata": {},
   "source": [
    "### Tiếp theo merge các cột flashsale để có thông tin về sản phẩm được bán trong đợt flashsale này"
   ]
  },
  {
   "cell_type": "code",
   "execution_count": 118,
   "metadata": {},
   "outputs": [
    {
     "name": "stdout",
     "output_type": "stream",
     "text": [
      "<class 'pandas.core.frame.DataFrame'>\n",
      "Int64Index: 3930772 entries, 0 to 3930771\n",
      "Data columns (total 12 columns):\n",
      " #   Column                                       Dtype         \n",
      "---  ------                                       -----         \n",
      " 0   fhs_flashsale_product.period_id              int64         \n",
      " 1   fhs_flashsale_product.product_id             int64         \n",
      " 2   fhs_flashsale_product.original_price         float64       \n",
      " 3   fhs_flashsale_product.flashsale_price        float64       \n",
      " 4   fhs_flashsale_product.total_items            float64       \n",
      " 5   fhs_flashsale_period.id                      int64         \n",
      " 6   fhs_flashsale_period.start_date              datetime64[ns]\n",
      " 7   fhs_flashsale_period.end_date                datetime64[ns]\n",
      " 8   fhs_catalog_product_entity.entity_id         int64         \n",
      " 9   fhs_catalog_product_entity.sku               object        \n",
      " 10  fhs_catalog_product_entity.created_at        datetime64[ns]\n",
      " 11  fhs_catalog_product_entity.discount_percent  float64       \n",
      "dtypes: datetime64[ns](3), float64(4), int64(4), object(1)\n",
      "memory usage: 389.9+ MB\n"
     ]
    }
   ],
   "source": [
    "temp = pd.merge(fhs_flashsale_product, fhs_flashsale_period, \n",
    "          left_on='fhs_flashsale_product.period_id', right_on='fhs_flashsale_period.id')\n",
    "fhs_flashsale_product_info = pd.merge(temp, fhs_catalog_product_entity, \n",
    "          left_on='fhs_flashsale_product.product_id', right_on='fhs_catalog_product_entity.entity_id')\n",
    "del temp\n",
    "fhs_flashsale_product_info.info()"
   ]
  },
  {
   "cell_type": "markdown",
   "metadata": {},
   "source": [
    "### Lọc ra những sản phẩm được đặt hàng có trong flashsale với điều kiện\n",
    "- #### Ngày tạo đơn trong ngày flashsale, và sku của sản phẩm phải trùng nhau"
   ]
  },
  {
   "cell_type": "code",
   "execution_count": 123,
   "metadata": {},
   "outputs": [
    {
     "ename": "TypeError",
     "evalue": "read_sql() missing 1 required positional argument: 'con'",
     "output_type": "error",
     "traceback": [
      "\u001b[0;31m---------------------------------------------------------------------------\u001b[0m",
      "\u001b[0;31mTypeError\u001b[0m                                 Traceback (most recent call last)",
      "\u001b[1;32m/home/it/Desktop/NTMINH/Report-data-analysis/Analysis_Fahasa.ipynb Cell 18\u001b[0m in \u001b[0;36m<cell line: 13>\u001b[0;34m()\u001b[0m\n\u001b[1;32m      <a href='vscode-notebook-cell:/home/it/Desktop/NTMINH/Report-data-analysis/Analysis_Fahasa.ipynb#X22sZmlsZQ%3D%3D?line=0'>1</a>\u001b[0m \u001b[39m# fhs_flashsale_product_order_complete = \\\u001b[39;00m\n\u001b[1;32m      <a href='vscode-notebook-cell:/home/it/Desktop/NTMINH/Report-data-analysis/Analysis_Fahasa.ipynb#X22sZmlsZQ%3D%3D?line=1'>2</a>\u001b[0m \u001b[39m#           pd.merge(fhs_sales_flat_order_complete_item, fhs_flashsale_product_info)\u001b[39;00m\n\u001b[1;32m      <a href='vscode-notebook-cell:/home/it/Desktop/NTMINH/Report-data-analysis/Analysis_Fahasa.ipynb#X22sZmlsZQ%3D%3D?line=2'>3</a>\u001b[0m \n\u001b[0;32m   (...)\u001b[0m\n\u001b[1;32m     <a href='vscode-notebook-cell:/home/it/Desktop/NTMINH/Report-data-analysis/Analysis_Fahasa.ipynb#X22sZmlsZQ%3D%3D?line=9'>10</a>\u001b[0m \u001b[39m#                               <= fhs_sales_flat_order_complete_item['fhs_sales_flat_order_item.created_at'])\u001b[39;00m\n\u001b[1;32m     <a href='vscode-notebook-cell:/home/it/Desktop/NTMINH/Report-data-analysis/Analysis_Fahasa.ipynb#X22sZmlsZQ%3D%3D?line=10'>11</a>\u001b[0m \u001b[39m#           )\u001b[39;00m\n\u001b[0;32m---> <a href='vscode-notebook-cell:/home/it/Desktop/NTMINH/Report-data-analysis/Analysis_Fahasa.ipynb#X22sZmlsZQ%3D%3D?line=12'>13</a>\u001b[0m pd\u001b[39m.\u001b[39;49mread_sql(\u001b[39m'\u001b[39;49m\u001b[39mSELECT fhs_catalog_product_entity.sku from fhs_flashsale_product_info\u001b[39;49m\u001b[39m'\u001b[39;49m)\n",
      "\u001b[0;31mTypeError\u001b[0m: read_sql() missing 1 required positional argument: 'con'"
     ]
    }
   ],
   "source": [
    "# fhs_flashsale_product_order_complete = \\\n",
    "#           pd.merge(fhs_sales_flat_order_complete_item, fhs_flashsale_product_info)\n",
    "\n",
    "# condition2 = np.where(\n",
    "#                     (fhs_flashsale_product_info['fhs_catalog_product_entity.sku'] \n",
    "#                               == fhs_sales_flat_order_complete_item['fhs_sales_flat_order_item.sku'])\n",
    "#           &         (fhs_flashsale_product_info['fhs_flashsale_period.start_date'] \n",
    "#                               >= fhs_sales_flat_order_complete_item['fhs_sales_flat_order_item.created_at'])\n",
    "#           &         (fhs_flashsale_product_info['fhs_flashsale_period.end_date'] \n",
    "#                               <= fhs_sales_flat_order_complete_item['fhs_sales_flat_order_item.created_at'])\n",
    "#           )\n",
    "from sqlite3 import connect \n",
    "conn = connect(':memory:')\n",
    "pd.read_sql('SELECT fhs_catalog_product_entity.sku from fhs_flashsale_product_info')\n"
   ]
  }
 ],
 "metadata": {
  "kernelspec": {
   "display_name": "Python 3.10.4 64-bit",
   "language": "python",
   "name": "python3"
  },
  "language_info": {
   "codemirror_mode": {
    "name": "ipython",
    "version": 3
   },
   "file_extension": ".py",
   "mimetype": "text/x-python",
   "name": "python",
   "nbconvert_exporter": "python",
   "pygments_lexer": "ipython3",
   "version": "3.10.4"
  },
  "orig_nbformat": 4,
  "vscode": {
   "interpreter": {
    "hash": "916dbcbb3f70747c44a77c7bcd40155683ae19c65e1c03b4aa3499c5328201f1"
   }
  }
 },
 "nbformat": 4,
 "nbformat_minor": 2
}
